{
 "cells": [
  {
   "cell_type": "markdown",
   "id": "ca0b2cc3-edde-4388-bbe9-43b51eb788e3",
   "metadata": {},
   "source": [
    "# Categorical prediction for houses in Iowa --> Expensive vs. not expensive"
   ]
  },
  {
   "cell_type": "markdown",
   "id": "fbbcbea1-22a9-4389-8333-758b8ca46b0c",
   "metadata": {},
   "source": [
    "The task: create a model that if a house is \"expensive\" oder \"not expensive\" based on its characteristics.  \n",
    "Basis is a datase with 1460 houses and 79 describing features.  \n",
    "Explanation of features can be found in the txt file data_description.\n"
   ]
  },
  {
   "cell_type": "markdown",
   "id": "217068ff-b25f-40ed-aedf-069f1ee03903",
   "metadata": {
    "tags": []
   },
   "source": [
    "This is the 2nd part of the task. The first notebook \"preparation_data\"  was used to explore the dataframe.  \n",
    "\n",
    "This notebook creates separate pipes to test several models and store the results. \n",
    "The best results are used to create a prediction with a seaparate test dataframe to submit into a students competition"
   ]
  },
  {
   "cell_type": "code",
   "execution_count": 57,
   "id": "e2b25065-1c9b-48dd-956a-b6e6dea957ce",
   "metadata": {
    "tags": []
   },
   "outputs": [],
   "source": [
    "import pandas as pd\n",
    "import matplotlib.pyplot as plt\n",
    "import seaborn as sns\n",
    "\n",
    "from sklearn.impute import SimpleImputer, KNNImputer\n",
    "from sklearn.preprocessing import OneHotEncoder, OrdinalEncoder, MinMaxScaler, StandardScaler\n",
    "from sklearn.compose import make_column_transformer, make_column_selector\n",
    "from sklearn.pipeline import make_pipeline\n",
    "from sklearn.model_selection import train_test_split, GridSearchCV, RandomizedSearchCV\n",
    "from sklearn.neighbors import KNeighborsClassifier\n",
    "from sklearn.tree import DecisionTreeClassifier, plot_tree\n",
    "from sklearn.metrics import accuracy_score, confusion_matrix, ConfusionMatrixDisplay\n",
    "from sklearn.ensemble import RandomForestClassifier\n",
    "from sklearn import set_config\n",
    "set_config(transform_output=\"pandas\")\n",
    "pd.set_option('display.max_rows', 50)"
   ]
  },
  {
   "cell_type": "markdown",
   "id": "40a9c198-c362-43ec-aebe-9378dbc5bb37",
   "metadata": {
    "tags": []
   },
   "source": [
    "## Import"
   ]
  },
  {
   "cell_type": "code",
   "execution_count": 59,
   "id": "0861bec8-845d-4e64-943f-9cd1433300ff",
   "metadata": {
    "tags": []
   },
   "outputs": [],
   "source": [
    "houses_raw = pd.read_csv(\"data/housing-classification-iter6.csv\")\n",
    "houses_df = houses_raw.copy().drop_duplicates()\n",
    "X = houses_df.copy()\n",
    "X = X.drop(columns=[\"Id\"])\n",
    "y = y = houses_df.pop(\"Expensive\")\n",
    "X_train, X_test,y_train, y_test = train_test_split(X,y,test_size = 0.2, random_state = 12120)"
   ]
  },
  {
   "cell_type": "markdown",
   "id": "a6ad1af2-b66c-45f0-ab53-7ca873890244",
   "metadata": {
    "tags": []
   },
   "source": [
    "## Ordinal Categories"
   ]
  },
  {
   "cell_type": "markdown",
   "id": "ab1daf00-13ba-431e-8e1f-d9d303479fb1",
   "metadata": {},
   "source": [
    "order for ordinal encoding"
   ]
  },
  {
   "cell_type": "code",
   "execution_count": 62,
   "id": "cf5546ab-9989-435d-bfc2-883c28d37d20",
   "metadata": {
    "tags": []
   },
   "outputs": [],
   "source": [
    "# define order of categories in each feature for ordinal encoding\n",
    "ExterQual_ord = [\"Po\", \"Fa\", \"TA\", \"Gd\", \"Ex\"]\n",
    "ExterCond_ord = [\"Po\", \"Fa\", \"TA\", \"Gd\", \"Ex\"]\n",
    "BsmtQual_ord = [\"NA\",\"Po\", \"Fa\", \"TA\", \"Gd\", \"Ex\"]\n",
    "BsmtCond_ord = [\"NA\",\"Po\", \"Fa\", \"TA\", \"Gd\", \"Ex\"]\n",
    "BsmtExposure_ord = [\"NA\", \"No\", \"Mn\", \"Av\", \"Gd\"]\n",
    "BsmtFinType1_ord = [\"NA\", \"unf\", \"LwQ\", \"Rec\", \"BLQ\", \"ALQ\", \"GLQ\"]\n",
    "KitchenQual_ord = [\"Po\", \"Fa\", \"TA\", \"Gd\", \"Ex\"]\n",
    "FireplaceQu_ord = [\"Po\", \"Fa\", \"TA\", \"Gd\", \"Ex\"]\n",
    "LotShape_ord = [\"IR3\",\"IR2\", \"IR1\",\"Reg\"]\n",
    "Utilities_ord = [\"ELO\",\"NoSeWa\",\"NoSewr\",\"AllPub\"]\n",
    "HeatingQC_ord = [\"Po\", \"Fa\", \"TA\", \"Gd\", \"Ex\"]\n",
    "GarageFinish_ord = [\"NA\",\"Unf\", \"RFn\",\"Fin\"]\n",
    "GarageQual_ord = [\"NA\",\"Po\", \"Fa\", \"TA\", \"Gd\", \"Ex\"]\n",
    "PavedDrive_ord = [\"N\",\"P\",\"Y\"]\n",
    "Fence_ord= [\"NA\", \"MnWw\",\"GdWo\",\"MnPrv\",\"GdPrv\"]\n",
    "\n",
    "# dictionary for ordinal encoding\n",
    "category_order={\"ExterQual\": ExterQual_ord, \n",
    "            \"ExterCond\": ExterCond_ord,\n",
    "            \"BsmtQual\": BsmtQual_ord,\n",
    "            \"BsmtCond\": BsmtCond_ord,\n",
    "            \"BsmtExposure\": BsmtExposure_ord,\n",
    "            \"BsmtFinType1\": BsmtFinType1_ord, \n",
    "            \"KitchenQual\": KitchenQual_ord,\n",
    "            \"FireplaceQu\": FireplaceQu_ord,\n",
    "            \"LotShape\" : LotShape_ord ,\n",
    "            \"Utilities\" : Utilities_ord ,\n",
    "            \"HeatingQC\" : HeatingQC_ord ,\n",
    "            \"GarageFinish\" : GarageFinish_ord ,\n",
    "            \"GarageQual\" : GarageQual_ord ,\n",
    "            \"PavedDrive\" : PavedDrive_ord ,\n",
    "            \"Fence\" : Fence_ord\n",
    "               \n",
    "               }"
   ]
  },
  {
   "cell_type": "markdown",
   "id": "d1ee4c73-6a5e-4a22-8e62-b7fc3f48a625",
   "metadata": {
    "tags": []
   },
   "source": [
    "## Pipeline without scaling"
   ]
  },
  {
   "cell_type": "markdown",
   "id": "26b6dc2e-1182-42a6-af20-05e832dd704a",
   "metadata": {},
   "source": [
    "Initialize the pipeline parts"
   ]
  },
  {
   "cell_type": "code",
   "execution_count": 65,
   "id": "5aa0cd53-d028-48f8-afbc-d60fab1bdb14",
   "metadata": {
    "tags": []
   },
   "outputs": [],
   "source": [
    "\n",
    "def no_scaling_pipe(model, X_cat, X_num, X_ord):\n",
    "    \"\"\"\n",
    "    Creates a machine learning pipeline for preprocessing and modeling without scaling numerical features.\n",
    "\n",
    "    Parameters:\n",
    "    - model: The machine learning model to be used.\n",
    "    - X_cat: The categorical features of the dataset.\n",
    "    - X_num: The numerical features of the dataset.\n",
    "    - X_ord: The ordinal features of the dataset.\n",
    "\n",
    "    Returns:\n",
    "    - no_scale_pipe: The machine learning pipeline without scaling numerical features.\n",
    "    \"\"\"\n",
    "\n",
    "    # Create encoders for categorical and ordinal features\n",
    "    hot = OneHotEncoder(sparse_output=False, drop=\"first\", handle_unknown=\"ignore\")\n",
    "    ordinal = OrdinalEncoder(categories=[category_order[feature] for feature in category_order],\n",
    "                             handle_unknown = \"use_encoded_value\",\n",
    "                             unknown_value = -1)\n",
    "\n",
    "    # Create pipelines for numerical, categorical, and ordinal features\n",
    "    num_pipe = make_pipeline(SimpleImputer())\n",
    "    cat_pipe = make_pipeline(SimpleImputer(strategy=\"constant\", fill_value=\"unknown\"), hot)\n",
    "    ord_pipe = make_pipeline(SimpleImputer(strategy=\"constant\",fill_value=\"unknown\"), ordinal)\n",
    "\n",
    "    # Create a column transformer to apply the pipelines to the respective features\n",
    "    preprocessor = make_column_transformer(\n",
    "        (num_pipe, X_num),\n",
    "        (cat_pipe, X_cat),\n",
    "        (ord_pipe, X_ord)\n",
    "    )\n",
    "\n",
    "    # Create the final pipeline by combining the preprocessor and the model\n",
    "    no_scale_pipe = make_pipeline(preprocessor, model)\n",
    "\n",
    "    return no_scale_pipe"
   ]
  },
  {
   "cell_type": "markdown",
   "id": "525afd67-822f-4819-927e-f1ebd84ce83c",
   "metadata": {
    "tags": []
   },
   "source": [
    "## Pipeline with scaling"
   ]
  },
  {
   "cell_type": "code",
   "execution_count": 67,
   "id": "8d8e46f3-14b0-4837-abe6-a77735368240",
   "metadata": {
    "tags": []
   },
   "outputs": [],
   "source": [
    "def scaling_pipe(scaled_model, X_cat, X_num, X_ord, scaler):\n",
    "    \"\"\"\n",
    "    Creates a machine learning pipeline for preprocessing and modeling with scaling numerical features.\n",
    "\n",
    "    Parameters:\n",
    "    - scaled_model: The scaled machine learning model to be used.\n",
    "    - X_cat: The categorical features of the dataset.\n",
    "    - X_num: The numerical features of the dataset.\n",
    "    - X_ord: The ordinal features of the dataset.\n",
    "    - scaler: The scaler to be applied to the numerical, categorical, and ordinal features.\n",
    "\n",
    "    Returns:\n",
    "    - scaled_pipe: The machine learning pipeline with scaling numerical features.\n",
    "\n",
    "    \"\"\"\n",
    "\n",
    "    # Create encoders for categorical and ordinal features\n",
    "    hot = OneHotEncoder(sparse_output=False, drop=\"first\", handle_unknown=\"ignore\")\n",
    "    ordinal = OrdinalEncoder(categories=[category_order[feature] for feature in category_order],\n",
    "                                handle_unknown = \"use_encoded_value\",\n",
    "                                 unknown_value = -1)\n",
    "\n",
    "    # Create pipelines for numerical, categorical, and ordinal features with the scaler\n",
    "    num_pipe = make_pipeline(SimpleImputer(), scaler)\n",
    "    cat_pipe = make_pipeline(SimpleImputer(strategy=\"constant\", fill_value=\"unknown\"), hot, scaler)\n",
    "    ord_pipe = make_pipeline(SimpleImputer(strategy=\"constant\",fill_value=\"unknown\"), ordinal, scaler)\n",
    "\n",
    "    # Create a column transformer to apply the pipelines to the respective features\n",
    "    preprocessor = make_column_transformer(\n",
    "        (num_pipe, X_num),\n",
    "        (cat_pipe, X_cat),\n",
    "        (ord_pipe, X_ord)\n",
    "    )\n",
    "\n",
    "    # Create the final pipeline by combining the preprocessor and the scaled model\n",
    "    scaled_pipe = make_pipeline(preprocessor, scaled_model)\n",
    "\n",
    "    return scaled_pipe"
   ]
  },
  {
   "cell_type": "code",
   "execution_count": 68,
   "id": "ee42b745-803c-46e7-afed-0600846a10b6",
   "metadata": {
    "tags": []
   },
   "outputs": [],
   "source": [
    "X_ord = X_train.loc[:,([\"ExterQual\",\"ExterCond\",\"BsmtQual\",\"BsmtCond\",\"BsmtExposure\", \"BsmtFinType1\",\"KitchenQual\",\n",
    "\"FireplaceQu\",\"LotShape\",\"Utilities\" , \"HeatingQC\",\"GarageFinish\" , \"GarageQual\", \"PavedDrive\" ,\"Fence\",])].columns\n",
    "\n",
    "X_num = X_train.select_dtypes(include=\"number\").columns\n",
    "\n",
    "X_cat = X_train.loc[:,[\"MSZoning\" ,\"Condition1\" ,\"CentralAir\" ,\"Foundation\" ,\"LandContour\" ,\"LotConfig\"  ,   \n",
    "\"LandSlope\" ,\"Neighborhood\", \"Condition2\",\"BldgType\",\"HouseStyle\" ,\"RoofStyle\" ,\"Exterior1st\"  ,  \n",
    "\"Exterior2nd\",\"MasVnrType\" ,\"Electrical\" ,\"GarageType\" ,\"GarageFinish\" ,\"MiscFeature\"   ,\n",
    "\"SaleType\",\"SaleCondition\" ]].columns\n"
   ]
  },
  {
   "cell_type": "code",
   "execution_count": 69,
   "id": "6260a5d6-c687-40ec-a7e5-74b514865c53",
   "metadata": {
    "tags": []
   },
   "outputs": [],
   "source": [
    "\n",
    "# Model without scaling in no_scale pipe\n",
    "model = RandomForestClassifier(n_estimators=100, random_state = 12120)\n",
    "full_pipe = no_scaling_pipe(model, X_cat,X_num,X_ord)\n",
    "\n",
    "# Model with scaling in scaled pipe\n",
    "scaled_model = KNeighborsClassifier()\n",
    "scaler = MinMaxScaler()\n",
    "\n",
    "full_pipe_scaled = scaling_pipe(scaled_model, X_cat,X_num,X_ord,scaler)"
   ]
  },
  {
   "cell_type": "code",
   "execution_count": 70,
   "id": "2fa5c126-a164-41a4-bab8-63295bf58dde",
   "metadata": {
    "tags": []
   },
   "outputs": [
    {
     "data": {
      "text/html": [
       "<style>#sk-container-id-2 {color: black;}#sk-container-id-2 pre{padding: 0;}#sk-container-id-2 div.sk-toggleable {background-color: white;}#sk-container-id-2 label.sk-toggleable__label {cursor: pointer;display: block;width: 100%;margin-bottom: 0;padding: 0.3em;box-sizing: border-box;text-align: center;}#sk-container-id-2 label.sk-toggleable__label-arrow:before {content: \"▸\";float: left;margin-right: 0.25em;color: #696969;}#sk-container-id-2 label.sk-toggleable__label-arrow:hover:before {color: black;}#sk-container-id-2 div.sk-estimator:hover label.sk-toggleable__label-arrow:before {color: black;}#sk-container-id-2 div.sk-toggleable__content {max-height: 0;max-width: 0;overflow: hidden;text-align: left;background-color: #f0f8ff;}#sk-container-id-2 div.sk-toggleable__content pre {margin: 0.2em;color: black;border-radius: 0.25em;background-color: #f0f8ff;}#sk-container-id-2 input.sk-toggleable__control:checked~div.sk-toggleable__content {max-height: 200px;max-width: 100%;overflow: auto;}#sk-container-id-2 input.sk-toggleable__control:checked~label.sk-toggleable__label-arrow:before {content: \"▾\";}#sk-container-id-2 div.sk-estimator input.sk-toggleable__control:checked~label.sk-toggleable__label {background-color: #d4ebff;}#sk-container-id-2 div.sk-label input.sk-toggleable__control:checked~label.sk-toggleable__label {background-color: #d4ebff;}#sk-container-id-2 input.sk-hidden--visually {border: 0;clip: rect(1px 1px 1px 1px);clip: rect(1px, 1px, 1px, 1px);height: 1px;margin: -1px;overflow: hidden;padding: 0;position: absolute;width: 1px;}#sk-container-id-2 div.sk-estimator {font-family: monospace;background-color: #f0f8ff;border: 1px dotted black;border-radius: 0.25em;box-sizing: border-box;margin-bottom: 0.5em;}#sk-container-id-2 div.sk-estimator:hover {background-color: #d4ebff;}#sk-container-id-2 div.sk-parallel-item::after {content: \"\";width: 100%;border-bottom: 1px solid gray;flex-grow: 1;}#sk-container-id-2 div.sk-label:hover label.sk-toggleable__label {background-color: #d4ebff;}#sk-container-id-2 div.sk-serial::before {content: \"\";position: absolute;border-left: 1px solid gray;box-sizing: border-box;top: 0;bottom: 0;left: 50%;z-index: 0;}#sk-container-id-2 div.sk-serial {display: flex;flex-direction: column;align-items: center;background-color: white;padding-right: 0.2em;padding-left: 0.2em;position: relative;}#sk-container-id-2 div.sk-item {position: relative;z-index: 1;}#sk-container-id-2 div.sk-parallel {display: flex;align-items: stretch;justify-content: center;background-color: white;position: relative;}#sk-container-id-2 div.sk-item::before, #sk-container-id-2 div.sk-parallel-item::before {content: \"\";position: absolute;border-left: 1px solid gray;box-sizing: border-box;top: 0;bottom: 0;left: 50%;z-index: -1;}#sk-container-id-2 div.sk-parallel-item {display: flex;flex-direction: column;z-index: 1;position: relative;background-color: white;}#sk-container-id-2 div.sk-parallel-item:first-child::after {align-self: flex-end;width: 50%;}#sk-container-id-2 div.sk-parallel-item:last-child::after {align-self: flex-start;width: 50%;}#sk-container-id-2 div.sk-parallel-item:only-child::after {width: 0;}#sk-container-id-2 div.sk-dashed-wrapped {border: 1px dashed gray;margin: 0 0.4em 0.5em 0.4em;box-sizing: border-box;padding-bottom: 0.4em;background-color: white;}#sk-container-id-2 div.sk-label label {font-family: monospace;font-weight: bold;display: inline-block;line-height: 1.2em;}#sk-container-id-2 div.sk-label-container {text-align: center;}#sk-container-id-2 div.sk-container {/* jupyter's `normalize.less` sets `[hidden] { display: none; }` but bootstrap.min.css set `[hidden] { display: none !important; }` so we also need the `!important` here to be able to override the default hidden behavior on the sphinx rendered scikit-learn.org. See: https://github.com/scikit-learn/scikit-learn/issues/21755 */display: inline-block !important;position: relative;}#sk-container-id-2 div.sk-text-repr-fallback {display: none;}</style><div id=\"sk-container-id-2\" class=\"sk-top-container\"><div class=\"sk-text-repr-fallback\"><pre>Pipeline(steps=[(&#x27;columntransformer&#x27;,\n",
       "                 ColumnTransformer(transformers=[(&#x27;pipeline-1&#x27;,\n",
       "                                                  Pipeline(steps=[(&#x27;simpleimputer&#x27;,\n",
       "                                                                   SimpleImputer()),\n",
       "                                                                  (&#x27;minmaxscaler&#x27;,\n",
       "                                                                   MinMaxScaler())]),\n",
       "                                                  Index([&#x27;LotArea&#x27;, &#x27;LotFrontage&#x27;, &#x27;TotalBsmtSF&#x27;, &#x27;BedroomAbvGr&#x27;, &#x27;Fireplaces&#x27;,\n",
       "       &#x27;PoolArea&#x27;, &#x27;GarageCars&#x27;, &#x27;WoodDeckSF&#x27;, &#x27;ScreenPorch&#x27;, &#x27;Expensive&#x27;,\n",
       "       &#x27;MSSubClass&#x27;, &#x27;OverallQual&#x27;, &#x27;OverallCond&#x27;, &#x27;YearB...\n",
       "                                                                                  handle_unknown=&#x27;use_encoded_value&#x27;,\n",
       "                                                                                  unknown_value=-1)),\n",
       "                                                                  (&#x27;minmaxscaler&#x27;,\n",
       "                                                                   MinMaxScaler())]),\n",
       "                                                  Index([&#x27;ExterQual&#x27;, &#x27;ExterCond&#x27;, &#x27;BsmtQual&#x27;, &#x27;BsmtCond&#x27;, &#x27;BsmtExposure&#x27;,\n",
       "       &#x27;BsmtFinType1&#x27;, &#x27;KitchenQual&#x27;, &#x27;FireplaceQu&#x27;, &#x27;LotShape&#x27;, &#x27;Utilities&#x27;,\n",
       "       &#x27;HeatingQC&#x27;, &#x27;GarageFinish&#x27;, &#x27;GarageQual&#x27;, &#x27;PavedDrive&#x27;, &#x27;Fence&#x27;],\n",
       "      dtype=&#x27;object&#x27;))])),\n",
       "                (&#x27;kneighborsclassifier&#x27;, KNeighborsClassifier())])</pre><b>In a Jupyter environment, please rerun this cell to show the HTML representation or trust the notebook. <br />On GitHub, the HTML representation is unable to render, please try loading this page with nbviewer.org.</b></div><div class=\"sk-container\" hidden><div class=\"sk-item sk-dashed-wrapped\"><div class=\"sk-label-container\"><div class=\"sk-label sk-toggleable\"><input class=\"sk-toggleable__control sk-hidden--visually\" id=\"sk-estimator-id-15\" type=\"checkbox\" ><label for=\"sk-estimator-id-15\" class=\"sk-toggleable__label sk-toggleable__label-arrow\">Pipeline</label><div class=\"sk-toggleable__content\"><pre>Pipeline(steps=[(&#x27;columntransformer&#x27;,\n",
       "                 ColumnTransformer(transformers=[(&#x27;pipeline-1&#x27;,\n",
       "                                                  Pipeline(steps=[(&#x27;simpleimputer&#x27;,\n",
       "                                                                   SimpleImputer()),\n",
       "                                                                  (&#x27;minmaxscaler&#x27;,\n",
       "                                                                   MinMaxScaler())]),\n",
       "                                                  Index([&#x27;LotArea&#x27;, &#x27;LotFrontage&#x27;, &#x27;TotalBsmtSF&#x27;, &#x27;BedroomAbvGr&#x27;, &#x27;Fireplaces&#x27;,\n",
       "       &#x27;PoolArea&#x27;, &#x27;GarageCars&#x27;, &#x27;WoodDeckSF&#x27;, &#x27;ScreenPorch&#x27;, &#x27;Expensive&#x27;,\n",
       "       &#x27;MSSubClass&#x27;, &#x27;OverallQual&#x27;, &#x27;OverallCond&#x27;, &#x27;YearB...\n",
       "                                                                                  handle_unknown=&#x27;use_encoded_value&#x27;,\n",
       "                                                                                  unknown_value=-1)),\n",
       "                                                                  (&#x27;minmaxscaler&#x27;,\n",
       "                                                                   MinMaxScaler())]),\n",
       "                                                  Index([&#x27;ExterQual&#x27;, &#x27;ExterCond&#x27;, &#x27;BsmtQual&#x27;, &#x27;BsmtCond&#x27;, &#x27;BsmtExposure&#x27;,\n",
       "       &#x27;BsmtFinType1&#x27;, &#x27;KitchenQual&#x27;, &#x27;FireplaceQu&#x27;, &#x27;LotShape&#x27;, &#x27;Utilities&#x27;,\n",
       "       &#x27;HeatingQC&#x27;, &#x27;GarageFinish&#x27;, &#x27;GarageQual&#x27;, &#x27;PavedDrive&#x27;, &#x27;Fence&#x27;],\n",
       "      dtype=&#x27;object&#x27;))])),\n",
       "                (&#x27;kneighborsclassifier&#x27;, KNeighborsClassifier())])</pre></div></div></div><div class=\"sk-serial\"><div class=\"sk-item sk-dashed-wrapped\"><div class=\"sk-label-container\"><div class=\"sk-label sk-toggleable\"><input class=\"sk-toggleable__control sk-hidden--visually\" id=\"sk-estimator-id-16\" type=\"checkbox\" ><label for=\"sk-estimator-id-16\" class=\"sk-toggleable__label sk-toggleable__label-arrow\">columntransformer: ColumnTransformer</label><div class=\"sk-toggleable__content\"><pre>ColumnTransformer(transformers=[(&#x27;pipeline-1&#x27;,\n",
       "                                 Pipeline(steps=[(&#x27;simpleimputer&#x27;,\n",
       "                                                  SimpleImputer()),\n",
       "                                                 (&#x27;minmaxscaler&#x27;,\n",
       "                                                  MinMaxScaler())]),\n",
       "                                 Index([&#x27;LotArea&#x27;, &#x27;LotFrontage&#x27;, &#x27;TotalBsmtSF&#x27;, &#x27;BedroomAbvGr&#x27;, &#x27;Fireplaces&#x27;,\n",
       "       &#x27;PoolArea&#x27;, &#x27;GarageCars&#x27;, &#x27;WoodDeckSF&#x27;, &#x27;ScreenPorch&#x27;, &#x27;Expensive&#x27;,\n",
       "       &#x27;MSSubClass&#x27;, &#x27;OverallQual&#x27;, &#x27;OverallCond&#x27;, &#x27;YearBuilt&#x27;, &#x27;YearRemodAdd&#x27;,\n",
       "       &#x27;MasVnrArea&#x27;, &#x27;Bs...\n",
       "                                                                             [&#x27;N&#x27;,\n",
       "                                                                              &#x27;P&#x27;,\n",
       "                                                                              &#x27;Y&#x27;],\n",
       "                                                                             [&#x27;NA&#x27;,\n",
       "                                                                              &#x27;MnWw&#x27;,\n",
       "                                                                              &#x27;GdWo&#x27;,\n",
       "                                                                              &#x27;MnPrv&#x27;,\n",
       "                                                                              &#x27;GdPrv&#x27;]],\n",
       "                                                                 handle_unknown=&#x27;use_encoded_value&#x27;,\n",
       "                                                                 unknown_value=-1)),\n",
       "                                                 (&#x27;minmaxscaler&#x27;,\n",
       "                                                  MinMaxScaler())]),\n",
       "                                 Index([&#x27;ExterQual&#x27;, &#x27;ExterCond&#x27;, &#x27;BsmtQual&#x27;, &#x27;BsmtCond&#x27;, &#x27;BsmtExposure&#x27;,\n",
       "       &#x27;BsmtFinType1&#x27;, &#x27;KitchenQual&#x27;, &#x27;FireplaceQu&#x27;, &#x27;LotShape&#x27;, &#x27;Utilities&#x27;,\n",
       "       &#x27;HeatingQC&#x27;, &#x27;GarageFinish&#x27;, &#x27;GarageQual&#x27;, &#x27;PavedDrive&#x27;, &#x27;Fence&#x27;],\n",
       "      dtype=&#x27;object&#x27;))])</pre></div></div></div><div class=\"sk-parallel\"><div class=\"sk-parallel-item\"><div class=\"sk-item\"><div class=\"sk-label-container\"><div class=\"sk-label sk-toggleable\"><input class=\"sk-toggleable__control sk-hidden--visually\" id=\"sk-estimator-id-17\" type=\"checkbox\" ><label for=\"sk-estimator-id-17\" class=\"sk-toggleable__label sk-toggleable__label-arrow\">pipeline-1</label><div class=\"sk-toggleable__content\"><pre>Index([&#x27;LotArea&#x27;, &#x27;LotFrontage&#x27;, &#x27;TotalBsmtSF&#x27;, &#x27;BedroomAbvGr&#x27;, &#x27;Fireplaces&#x27;,\n",
       "       &#x27;PoolArea&#x27;, &#x27;GarageCars&#x27;, &#x27;WoodDeckSF&#x27;, &#x27;ScreenPorch&#x27;, &#x27;Expensive&#x27;,\n",
       "       &#x27;MSSubClass&#x27;, &#x27;OverallQual&#x27;, &#x27;OverallCond&#x27;, &#x27;YearBuilt&#x27;, &#x27;YearRemodAdd&#x27;,\n",
       "       &#x27;MasVnrArea&#x27;, &#x27;BsmtFinSF1&#x27;, &#x27;BsmtFinSF2&#x27;, &#x27;BsmtUnfSF&#x27;, &#x27;1stFlrSF&#x27;,\n",
       "       &#x27;2ndFlrSF&#x27;, &#x27;LowQualFinSF&#x27;, &#x27;GrLivArea&#x27;, &#x27;BsmtFullBath&#x27;, &#x27;BsmtHalfBath&#x27;,\n",
       "       &#x27;FullBath&#x27;, &#x27;HalfBath&#x27;, &#x27;KitchenAbvGr&#x27;, &#x27;TotRmsAbvGrd&#x27;, &#x27;GarageYrBlt&#x27;,\n",
       "       &#x27;GarageArea&#x27;, &#x27;OpenPorchSF&#x27;, &#x27;EnclosedPorch&#x27;, &#x27;3SsnPorch&#x27;, &#x27;MiscVal&#x27;,\n",
       "       &#x27;MoSold&#x27;, &#x27;YrSold&#x27;],\n",
       "      dtype=&#x27;object&#x27;)</pre></div></div></div><div class=\"sk-serial\"><div class=\"sk-item\"><div class=\"sk-serial\"><div class=\"sk-item\"><div class=\"sk-estimator sk-toggleable\"><input class=\"sk-toggleable__control sk-hidden--visually\" id=\"sk-estimator-id-18\" type=\"checkbox\" ><label for=\"sk-estimator-id-18\" class=\"sk-toggleable__label sk-toggleable__label-arrow\">SimpleImputer</label><div class=\"sk-toggleable__content\"><pre>SimpleImputer()</pre></div></div></div><div class=\"sk-item\"><div class=\"sk-estimator sk-toggleable\"><input class=\"sk-toggleable__control sk-hidden--visually\" id=\"sk-estimator-id-19\" type=\"checkbox\" ><label for=\"sk-estimator-id-19\" class=\"sk-toggleable__label sk-toggleable__label-arrow\">MinMaxScaler</label><div class=\"sk-toggleable__content\"><pre>MinMaxScaler()</pre></div></div></div></div></div></div></div></div><div class=\"sk-parallel-item\"><div class=\"sk-item\"><div class=\"sk-label-container\"><div class=\"sk-label sk-toggleable\"><input class=\"sk-toggleable__control sk-hidden--visually\" id=\"sk-estimator-id-20\" type=\"checkbox\" ><label for=\"sk-estimator-id-20\" class=\"sk-toggleable__label sk-toggleable__label-arrow\">pipeline-2</label><div class=\"sk-toggleable__content\"><pre>Index([&#x27;MSZoning&#x27;, &#x27;Condition1&#x27;, &#x27;CentralAir&#x27;, &#x27;Foundation&#x27;, &#x27;LandContour&#x27;,\n",
       "       &#x27;LotConfig&#x27;, &#x27;LandSlope&#x27;, &#x27;Neighborhood&#x27;, &#x27;Condition2&#x27;, &#x27;BldgType&#x27;,\n",
       "       &#x27;HouseStyle&#x27;, &#x27;RoofStyle&#x27;, &#x27;Exterior1st&#x27;, &#x27;Exterior2nd&#x27;, &#x27;MasVnrType&#x27;,\n",
       "       &#x27;Electrical&#x27;, &#x27;GarageType&#x27;, &#x27;GarageFinish&#x27;, &#x27;MiscFeature&#x27;, &#x27;SaleType&#x27;,\n",
       "       &#x27;SaleCondition&#x27;],\n",
       "      dtype=&#x27;object&#x27;)</pre></div></div></div><div class=\"sk-serial\"><div class=\"sk-item\"><div class=\"sk-serial\"><div class=\"sk-item\"><div class=\"sk-estimator sk-toggleable\"><input class=\"sk-toggleable__control sk-hidden--visually\" id=\"sk-estimator-id-21\" type=\"checkbox\" ><label for=\"sk-estimator-id-21\" class=\"sk-toggleable__label sk-toggleable__label-arrow\">SimpleImputer</label><div class=\"sk-toggleable__content\"><pre>SimpleImputer(fill_value=&#x27;unknown&#x27;, strategy=&#x27;constant&#x27;)</pre></div></div></div><div class=\"sk-item\"><div class=\"sk-estimator sk-toggleable\"><input class=\"sk-toggleable__control sk-hidden--visually\" id=\"sk-estimator-id-22\" type=\"checkbox\" ><label for=\"sk-estimator-id-22\" class=\"sk-toggleable__label sk-toggleable__label-arrow\">OneHotEncoder</label><div class=\"sk-toggleable__content\"><pre>OneHotEncoder(drop=&#x27;first&#x27;, handle_unknown=&#x27;ignore&#x27;, sparse_output=False)</pre></div></div></div><div class=\"sk-item\"><div class=\"sk-estimator sk-toggleable\"><input class=\"sk-toggleable__control sk-hidden--visually\" id=\"sk-estimator-id-23\" type=\"checkbox\" ><label for=\"sk-estimator-id-23\" class=\"sk-toggleable__label sk-toggleable__label-arrow\">MinMaxScaler</label><div class=\"sk-toggleable__content\"><pre>MinMaxScaler()</pre></div></div></div></div></div></div></div></div><div class=\"sk-parallel-item\"><div class=\"sk-item\"><div class=\"sk-label-container\"><div class=\"sk-label sk-toggleable\"><input class=\"sk-toggleable__control sk-hidden--visually\" id=\"sk-estimator-id-24\" type=\"checkbox\" ><label for=\"sk-estimator-id-24\" class=\"sk-toggleable__label sk-toggleable__label-arrow\">pipeline-3</label><div class=\"sk-toggleable__content\"><pre>Index([&#x27;ExterQual&#x27;, &#x27;ExterCond&#x27;, &#x27;BsmtQual&#x27;, &#x27;BsmtCond&#x27;, &#x27;BsmtExposure&#x27;,\n",
       "       &#x27;BsmtFinType1&#x27;, &#x27;KitchenQual&#x27;, &#x27;FireplaceQu&#x27;, &#x27;LotShape&#x27;, &#x27;Utilities&#x27;,\n",
       "       &#x27;HeatingQC&#x27;, &#x27;GarageFinish&#x27;, &#x27;GarageQual&#x27;, &#x27;PavedDrive&#x27;, &#x27;Fence&#x27;],\n",
       "      dtype=&#x27;object&#x27;)</pre></div></div></div><div class=\"sk-serial\"><div class=\"sk-item\"><div class=\"sk-serial\"><div class=\"sk-item\"><div class=\"sk-estimator sk-toggleable\"><input class=\"sk-toggleable__control sk-hidden--visually\" id=\"sk-estimator-id-25\" type=\"checkbox\" ><label for=\"sk-estimator-id-25\" class=\"sk-toggleable__label sk-toggleable__label-arrow\">SimpleImputer</label><div class=\"sk-toggleable__content\"><pre>SimpleImputer(fill_value=&#x27;unknown&#x27;, strategy=&#x27;constant&#x27;)</pre></div></div></div><div class=\"sk-item\"><div class=\"sk-estimator sk-toggleable\"><input class=\"sk-toggleable__control sk-hidden--visually\" id=\"sk-estimator-id-26\" type=\"checkbox\" ><label for=\"sk-estimator-id-26\" class=\"sk-toggleable__label sk-toggleable__label-arrow\">OrdinalEncoder</label><div class=\"sk-toggleable__content\"><pre>OrdinalEncoder(categories=[[&#x27;Po&#x27;, &#x27;Fa&#x27;, &#x27;TA&#x27;, &#x27;Gd&#x27;, &#x27;Ex&#x27;],\n",
       "                           [&#x27;Po&#x27;, &#x27;Fa&#x27;, &#x27;TA&#x27;, &#x27;Gd&#x27;, &#x27;Ex&#x27;],\n",
       "                           [&#x27;NA&#x27;, &#x27;Po&#x27;, &#x27;Fa&#x27;, &#x27;TA&#x27;, &#x27;Gd&#x27;, &#x27;Ex&#x27;],\n",
       "                           [&#x27;NA&#x27;, &#x27;Po&#x27;, &#x27;Fa&#x27;, &#x27;TA&#x27;, &#x27;Gd&#x27;, &#x27;Ex&#x27;],\n",
       "                           [&#x27;NA&#x27;, &#x27;No&#x27;, &#x27;Mn&#x27;, &#x27;Av&#x27;, &#x27;Gd&#x27;],\n",
       "                           [&#x27;NA&#x27;, &#x27;unf&#x27;, &#x27;LwQ&#x27;, &#x27;Rec&#x27;, &#x27;BLQ&#x27;, &#x27;ALQ&#x27;, &#x27;GLQ&#x27;],\n",
       "                           [&#x27;Po&#x27;, &#x27;Fa&#x27;, &#x27;TA&#x27;, &#x27;Gd&#x27;, &#x27;Ex&#x27;],\n",
       "                           [&#x27;Po&#x27;, &#x27;Fa&#x27;, &#x27;TA&#x27;, &#x27;Gd&#x27;, &#x27;Ex&#x27;],\n",
       "                           [&#x27;IR3&#x27;, &#x27;IR2&#x27;, &#x27;IR1&#x27;, &#x27;Reg&#x27;],\n",
       "                           [&#x27;ELO&#x27;, &#x27;NoSeWa&#x27;, &#x27;NoSewr&#x27;, &#x27;AllPub&#x27;],\n",
       "                           [&#x27;Po&#x27;, &#x27;Fa&#x27;, &#x27;TA&#x27;, &#x27;Gd&#x27;, &#x27;Ex&#x27;],\n",
       "                           [&#x27;NA&#x27;, &#x27;Unf&#x27;, &#x27;RFn&#x27;, &#x27;Fin&#x27;],\n",
       "                           [&#x27;NA&#x27;, &#x27;Po&#x27;, &#x27;Fa&#x27;, &#x27;TA&#x27;, &#x27;Gd&#x27;, &#x27;Ex&#x27;],\n",
       "                           [&#x27;N&#x27;, &#x27;P&#x27;, &#x27;Y&#x27;],\n",
       "                           [&#x27;NA&#x27;, &#x27;MnWw&#x27;, &#x27;GdWo&#x27;, &#x27;MnPrv&#x27;, &#x27;GdPrv&#x27;]],\n",
       "               handle_unknown=&#x27;use_encoded_value&#x27;, unknown_value=-1)</pre></div></div></div><div class=\"sk-item\"><div class=\"sk-estimator sk-toggleable\"><input class=\"sk-toggleable__control sk-hidden--visually\" id=\"sk-estimator-id-27\" type=\"checkbox\" ><label for=\"sk-estimator-id-27\" class=\"sk-toggleable__label sk-toggleable__label-arrow\">MinMaxScaler</label><div class=\"sk-toggleable__content\"><pre>MinMaxScaler()</pre></div></div></div></div></div></div></div></div></div></div><div class=\"sk-item\"><div class=\"sk-estimator sk-toggleable\"><input class=\"sk-toggleable__control sk-hidden--visually\" id=\"sk-estimator-id-28\" type=\"checkbox\" ><label for=\"sk-estimator-id-28\" class=\"sk-toggleable__label sk-toggleable__label-arrow\">KNeighborsClassifier</label><div class=\"sk-toggleable__content\"><pre>KNeighborsClassifier()</pre></div></div></div></div></div></div></div>"
      ],
      "text/plain": [
       "Pipeline(steps=[('columntransformer',\n",
       "                 ColumnTransformer(transformers=[('pipeline-1',\n",
       "                                                  Pipeline(steps=[('simpleimputer',\n",
       "                                                                   SimpleImputer()),\n",
       "                                                                  ('minmaxscaler',\n",
       "                                                                   MinMaxScaler())]),\n",
       "                                                  Index(['LotArea', 'LotFrontage', 'TotalBsmtSF', 'BedroomAbvGr', 'Fireplaces',\n",
       "       'PoolArea', 'GarageCars', 'WoodDeckSF', 'ScreenPorch', 'Expensive',\n",
       "       'MSSubClass', 'OverallQual', 'OverallCond', 'YearB...\n",
       "                                                                                  handle_unknown='use_encoded_value',\n",
       "                                                                                  unknown_value=-1)),\n",
       "                                                                  ('minmaxscaler',\n",
       "                                                                   MinMaxScaler())]),\n",
       "                                                  Index(['ExterQual', 'ExterCond', 'BsmtQual', 'BsmtCond', 'BsmtExposure',\n",
       "       'BsmtFinType1', 'KitchenQual', 'FireplaceQu', 'LotShape', 'Utilities',\n",
       "       'HeatingQC', 'GarageFinish', 'GarageQual', 'PavedDrive', 'Fence'],\n",
       "      dtype='object'))])),\n",
       "                ('kneighborsclassifier', KNeighborsClassifier())])"
      ]
     },
     "execution_count": 70,
     "metadata": {},
     "output_type": "execute_result"
    }
   ],
   "source": [
    "full_pipe_scaled"
   ]
  },
  {
   "cell_type": "markdown",
   "id": "71e9c9ec-b0a8-449c-a154-8d595b1e9551",
   "metadata": {
    "tags": []
   },
   "source": [
    "## Parameter fitting with GridSearch"
   ]
  },
  {
   "cell_type": "code",
   "execution_count": 72,
   "id": "5e44aaf6-ae5d-471b-8314-1d2064e15a46",
   "metadata": {
    "tags": []
   },
   "outputs": [],
   "source": [
    "# define parameters for tested Models\n",
    "\n",
    "# Parameter for KNeighbors \n",
    "parameter_knn = {\"columntransformer__pipeline-1__simpleimputer__strategy\":[\"mean\",\"median\",\"most_frequent\"],\n",
    "                    \"columntransformer__pipeline-2__onehotencoder__min_frequency\":range(10,20,2),\n",
    "                    \"kneighborsclassifier__n_neighbors\":range(12,20),\n",
    "                    \"kneighborsclassifier__weights\": [\"uniform\",\"distance\"],\n",
    "                     \"kneighborsclassifier__p\": [1]\n",
    "\n",
    "                 } \n",
    "#Parameter for Decision Tree Classifier\n",
    "parameter_tree = {\"columntransformer__pipeline-1__simpleimputer__strategy\":[\"mean\",\"median\",\"most_frequent\"],\n",
    "                    \"columntransformer__pipeline-2__onehotencoder__min_frequency\": range(3,9,3),\n",
    "                    \"decisiontreeclassifier__criterion\":[\"log_loss\",\"gini\"],\n",
    "                    \"decisiontreeclassifier__max_depth\": range(8,28,3),\n",
    "                    #\"decisiontreeclassifier__min_samples_leaf\": range(5,10),\n",
    "                    \"decisiontreeclassifier__max_features\": range(5,58,5),\n",
    "                    #\"decisiontreeclassifier__min_impurity_decrease\": [0.0, 0.005]\n",
    "\n",
    "                }\n",
    "#Parameter for Random Forest Classifier\n",
    "parameter_forest = {\"columntransformer__pipeline-1__simpleimputer__strategy\":[\"mean\",\"median\",\"most_frequent\"],\n",
    "                    \"columntransformer__pipeline-2__onehotencoder__min_frequency\": [3],\n",
    "                    \"randomforestclassifier__criterion\":[\"log_loss\"],\n",
    "                    \"randomforestclassifier__max_depth\": range(6,12,2),\n",
    "                    \"randomforestclassifier__min_samples_split\": range(5,30,5),\n",
    "                    \"randomforestclassifier__max_features\": [\"sqrt\",\"None\"],\n",
    "                    \"randomforestclassifier__min_impurity_decrease\": [0.0, 0.005]\n",
    "                 } "
   ]
  },
  {
   "cell_type": "code",
   "execution_count": 73,
   "id": "a7fcdb05-815c-4d74-a208-5bb80667c853",
   "metadata": {
    "tags": []
   },
   "outputs": [],
   "source": [
    "# stores results of the grid search parameter\n",
    "\n",
    "results_dict = {}\n",
    "nr = 0"
   ]
  },
  {
   "cell_type": "code",
   "execution_count": 74,
   "id": "cc80184c-0b2e-4ff0-96be-bf7743a420a1",
   "metadata": {
    "tags": []
   },
   "outputs": [],
   "source": [
    "# Grid Search function using the set parameter and 5 folds on accuracy score\n",
    "\n",
    "def grid_search(pipe,parameters,folds, X_train,y_train):\n",
    "\n",
    "    grid_search = GridSearchCV( pipe,\n",
    "                            parameters,\n",
    "                            cv = 5,\n",
    "                            scoring = \"accuracy\",\n",
    "                            verbose = 1\n",
    "                          )\n",
    "    return grid_search.fit(X_train,y_train)"
   ]
  },
  {
   "cell_type": "code",
   "execution_count": null,
   "id": "d52a7e71-e6d7-4c17-bd83-6fee575edf9d",
   "metadata": {
    "tags": []
   },
   "outputs": [],
   "source": [
    "# execute grid search function with several models and store the results in result dictionary\n",
    "grid_search = grid_search(full_pipe,parameter_forest,5,X_train,y_train)\n",
    "nr = nr+1\n",
    "results_dict.update({f\"Score_run_{nr}\": grid_search.best_score_})\n",
    "results_dict.update({f\"param_run_{nr}\": grid_search.best_params_})\n",
    "results_dict.update({f\"param_run_{nr}\": confusion_matrix(y_true = y_train, y_pred = search_fin.predict(X_train))} )"
   ]
  },
  {
   "cell_type": "code",
   "execution_count": 83,
   "id": "5fde9219-6312-4cf5-a625-b6fee6b3bef5",
   "metadata": {
    "tags": []
   },
   "outputs": [
    {
     "data": {
      "text/plain": [
       "{'Score_run_1': 0.9897215802795202,\n",
       " 'param_run_1': {'columntransformer__pipeline-1__simpleimputer__strategy': 'most_frequent',\n",
       "  'columntransformer__pipeline-2__onehotencoder__min_frequency': 3,\n",
       "  'randomforestclassifier__criterion': 'log_loss',\n",
       "  'randomforestclassifier__max_depth': 10,\n",
       "  'randomforestclassifier__max_features': 'sqrt',\n",
       "  'randomforestclassifier__min_impurity_decrease': 0.0,\n",
       "  'randomforestclassifier__min_samples_split': 5}}"
      ]
     },
     "execution_count": 83,
     "metadata": {},
     "output_type": "execute_result"
    }
   ],
   "source": [
    "results_dict"
   ]
  },
  {
   "cell_type": "markdown",
   "id": "df73b802-b98e-423e-89ba-e122696fc62f",
   "metadata": {},
   "source": [
    "## results controlling with best scores"
   ]
  },
  {
   "cell_type": "markdown",
   "id": "f86b443a-0f6f-46d2-8f89-9b156b44f866",
   "metadata": {},
   "source": [
    "the best results from testing are used to predict the test data and the submission test data"
   ]
  },
  {
   "cell_type": "code",
   "execution_count": 87,
   "id": "2c12fa66-d5ce-4f28-ba1a-a1bfec0a3311",
   "metadata": {
    "tags": []
   },
   "outputs": [],
   "source": [
    "# define final Parameters of best model Random Forest\n",
    "\n",
    "parameter_final =  {\"columntransformer__pipeline-1__simpleimputer__strategy\":[\"median\"],\n",
    "                    \"columntransformer__pipeline-2__onehotencoder__min_frequency\": [3],\n",
    "                    \"randomforestclassifier__criterion\":[\"log_loss\"],\n",
    "                    \"randomforestclassifier__max_depth\": [10],\n",
    "                    'randomforestclassifier__max_features': [\"sqrt\"],\n",
    "                    'randomforestclassifier__min_samples_split': [15]}"
   ]
  },
  {
   "cell_type": "code",
   "execution_count": 89,
   "id": "591e9202-d7ad-4843-a757-0f47df11bbc0",
   "metadata": {
    "tags": []
   },
   "outputs": [],
   "source": [
    "#final grid search for Random Forest with 5 folds and score accuracy\n",
    "search_final  = GridSearchCV( full_pipe,\n",
    "                            parameter_final,\n",
    "                            cv = 5,\n",
    "                            scoring = \"accuracy\",\n",
    "                            verbose = 1\n",
    "                          )"
   ]
  },
  {
   "cell_type": "code",
   "execution_count": null,
   "id": "468f83e4-e833-4fde-993e-d80fbcc2ceec",
   "metadata": {
    "tags": []
   },
   "outputs": [],
   "source": [
    "search_final.fit(X_train,y_train)"
   ]
  },
  {
   "cell_type": "code",
   "execution_count": 93,
   "id": "29cccb27-67cf-47df-b4b6-0cb8ce990f17",
   "metadata": {
    "tags": []
   },
   "outputs": [
    {
     "data": {
      "image/png": "[encoded data removed]",
      "text/plain": [
       "<Figure size 640x480 with 2 Axes>"
      ]
     },
     "metadata": {},
     "output_type": "display_data"
    }
   ],
   "source": [
    "# Plot Confusion Matrix to show results from final fit\n",
    "ConfusionMatrixDisplay.from_estimator(search_final,\n",
    "                                      X_train,\n",
    "                                      y_train,\n",
    "                                      display_labels=['Not Expensive', 'Expensive']);"
   ]
  },
  {
   "cell_type": "markdown",
   "id": "7d8cef77-886a-43e3-89b2-e94bc7d8de28",
   "metadata": {},
   "source": [
    "**Test Data**"
   ]
  },
  {
   "cell_type": "code",
   "execution_count": 95,
   "id": "c44e679e-438f-4bf2-baae-01d5029bea8e",
   "metadata": {
    "tags": []
   },
   "outputs": [
    {
     "name": "stderr",
     "output_type": "stream",
     "text": [
      "C:\\Users\\hanne\\anaconda3\\Lib\\site-packages\\sklearn\\preprocessing\\_encoders.py:227: UserWarning: Found unknown categories in columns [8] during transform. These unknown categories will be encoded as all zeros\n",
      "  warnings.warn(\n"
     ]
    },
    {
     "data": {
      "text/plain": [
       "0.9863013698630136"
      ]
     },
     "execution_count": 95,
     "metadata": {},
     "output_type": "execute_result"
    }
   ],
   "source": [
    "# Predict and calculate accuracy on test data\n",
    "accuracy_score(search_final.predict(X_test),y_test)"
   ]
  },
  {
   "cell_type": "code",
   "execution_count": 97,
   "id": "71cb201e-c11d-4005-af01-1901fe4592f7",
   "metadata": {},
   "outputs": [
    {
     "data": {
      "text/html": [
       "<style>#sk-container-id-4 {color: black;}#sk-container-id-4 pre{padding: 0;}#sk-container-id-4 div.sk-toggleable {background-color: white;}#sk-container-id-4 label.sk-toggleable__label {cursor: pointer;display: block;width: 100%;margin-bottom: 0;padding: 0.3em;box-sizing: border-box;text-align: center;}#sk-container-id-4 label.sk-toggleable__label-arrow:before {content: \"▸\";float: left;margin-right: 0.25em;color: #696969;}#sk-container-id-4 label.sk-toggleable__label-arrow:hover:before {color: black;}#sk-container-id-4 div.sk-estimator:hover label.sk-toggleable__label-arrow:before {color: black;}#sk-container-id-4 div.sk-toggleable__content {max-height: 0;max-width: 0;overflow: hidden;text-align: left;background-color: #f0f8ff;}#sk-container-id-4 div.sk-toggleable__content pre {margin: 0.2em;color: black;border-radius: 0.25em;background-color: #f0f8ff;}#sk-container-id-4 input.sk-toggleable__control:checked~div.sk-toggleable__content {max-height: 200px;max-width: 100%;overflow: auto;}#sk-container-id-4 input.sk-toggleable__control:checked~label.sk-toggleable__label-arrow:before {content: \"▾\";}#sk-container-id-4 div.sk-estimator input.sk-toggleable__control:checked~label.sk-toggleable__label {background-color: #d4ebff;}#sk-container-id-4 div.sk-label input.sk-toggleable__control:checked~label.sk-toggleable__label {background-color: #d4ebff;}#sk-container-id-4 input.sk-hidden--visually {border: 0;clip: rect(1px 1px 1px 1px);clip: rect(1px, 1px, 1px, 1px);height: 1px;margin: -1px;overflow: hidden;padding: 0;position: absolute;width: 1px;}#sk-container-id-4 div.sk-estimator {font-family: monospace;background-color: #f0f8ff;border: 1px dotted black;border-radius: 0.25em;box-sizing: border-box;margin-bottom: 0.5em;}#sk-container-id-4 div.sk-estimator:hover {background-color: #d4ebff;}#sk-container-id-4 div.sk-parallel-item::after {content: \"\";width: 100%;border-bottom: 1px solid gray;flex-grow: 1;}#sk-container-id-4 div.sk-label:hover label.sk-toggleable__label {background-color: #d4ebff;}#sk-container-id-4 div.sk-serial::before {content: \"\";position: absolute;border-left: 1px solid gray;box-sizing: border-box;top: 0;bottom: 0;left: 50%;z-index: 0;}#sk-container-id-4 div.sk-serial {display: flex;flex-direction: column;align-items: center;background-color: white;padding-right: 0.2em;padding-left: 0.2em;position: relative;}#sk-container-id-4 div.sk-item {position: relative;z-index: 1;}#sk-container-id-4 div.sk-parallel {display: flex;align-items: stretch;justify-content: center;background-color: white;position: relative;}#sk-container-id-4 div.sk-item::before, #sk-container-id-4 div.sk-parallel-item::before {content: \"\";position: absolute;border-left: 1px solid gray;box-sizing: border-box;top: 0;bottom: 0;left: 50%;z-index: -1;}#sk-container-id-4 div.sk-parallel-item {display: flex;flex-direction: column;z-index: 1;position: relative;background-color: white;}#sk-container-id-4 div.sk-parallel-item:first-child::after {align-self: flex-end;width: 50%;}#sk-container-id-4 div.sk-parallel-item:last-child::after {align-self: flex-start;width: 50%;}#sk-container-id-4 div.sk-parallel-item:only-child::after {width: 0;}#sk-container-id-4 div.sk-dashed-wrapped {border: 1px dashed gray;margin: 0 0.4em 0.5em 0.4em;box-sizing: border-box;padding-bottom: 0.4em;background-color: white;}#sk-container-id-4 div.sk-label label {font-family: monospace;font-weight: bold;display: inline-block;line-height: 1.2em;}#sk-container-id-4 div.sk-label-container {text-align: center;}#sk-container-id-4 div.sk-container {/* jupyter's `normalize.less` sets `[hidden] { display: none; }` but bootstrap.min.css set `[hidden] { display: none !important; }` so we also need the `!important` here to be able to override the default hidden behavior on the sphinx rendered scikit-learn.org. See: https://github.com/scikit-learn/scikit-learn/issues/21755 */display: inline-block !important;position: relative;}#sk-container-id-4 div.sk-text-repr-fallback {display: none;}</style><div id=\"sk-container-id-4\" class=\"sk-top-container\"><div class=\"sk-text-repr-fallback\"><pre>Pipeline(steps=[(&#x27;columntransformer&#x27;,\n",
       "                 ColumnTransformer(transformers=[(&#x27;pipeline-1&#x27;,\n",
       "                                                  Pipeline(steps=[(&#x27;simpleimputer&#x27;,\n",
       "                                                                   SimpleImputer(strategy=&#x27;median&#x27;))]),\n",
       "                                                  Index([&#x27;LotArea&#x27;, &#x27;LotFrontage&#x27;, &#x27;TotalBsmtSF&#x27;, &#x27;BedroomAbvGr&#x27;, &#x27;Fireplaces&#x27;,\n",
       "       &#x27;PoolArea&#x27;, &#x27;GarageCars&#x27;, &#x27;WoodDeckSF&#x27;, &#x27;ScreenPorch&#x27;, &#x27;Expensive&#x27;,\n",
       "       &#x27;MSSubClass&#x27;, &#x27;OverallQual&#x27;, &#x27;OverallCond&#x27;, &#x27;YearBuilt&#x27;, &#x27;YearRemo...\n",
       "                                                                                  unknown_value=-1))]),\n",
       "                                                  Index([&#x27;ExterQual&#x27;, &#x27;ExterCond&#x27;, &#x27;BsmtQual&#x27;, &#x27;BsmtCond&#x27;, &#x27;BsmtExposure&#x27;,\n",
       "       &#x27;BsmtFinType1&#x27;, &#x27;KitchenQual&#x27;, &#x27;FireplaceQu&#x27;, &#x27;LotShape&#x27;, &#x27;Utilities&#x27;,\n",
       "       &#x27;HeatingQC&#x27;, &#x27;GarageFinish&#x27;, &#x27;GarageQual&#x27;, &#x27;PavedDrive&#x27;, &#x27;Fence&#x27;],\n",
       "      dtype=&#x27;object&#x27;))])),\n",
       "                (&#x27;randomforestclassifier&#x27;,\n",
       "                 RandomForestClassifier(criterion=&#x27;log_loss&#x27;, max_depth=10,\n",
       "                                        min_samples_split=15,\n",
       "                                        random_state=12120))])</pre><b>In a Jupyter environment, please rerun this cell to show the HTML representation or trust the notebook. <br />On GitHub, the HTML representation is unable to render, please try loading this page with nbviewer.org.</b></div><div class=\"sk-container\" hidden><div class=\"sk-item sk-dashed-wrapped\"><div class=\"sk-label-container\"><div class=\"sk-label sk-toggleable\"><input class=\"sk-toggleable__control sk-hidden--visually\" id=\"sk-estimator-id-41\" type=\"checkbox\" ><label for=\"sk-estimator-id-41\" class=\"sk-toggleable__label sk-toggleable__label-arrow\">Pipeline</label><div class=\"sk-toggleable__content\"><pre>Pipeline(steps=[(&#x27;columntransformer&#x27;,\n",
       "                 ColumnTransformer(transformers=[(&#x27;pipeline-1&#x27;,\n",
       "                                                  Pipeline(steps=[(&#x27;simpleimputer&#x27;,\n",
       "                                                                   SimpleImputer(strategy=&#x27;median&#x27;))]),\n",
       "                                                  Index([&#x27;LotArea&#x27;, &#x27;LotFrontage&#x27;, &#x27;TotalBsmtSF&#x27;, &#x27;BedroomAbvGr&#x27;, &#x27;Fireplaces&#x27;,\n",
       "       &#x27;PoolArea&#x27;, &#x27;GarageCars&#x27;, &#x27;WoodDeckSF&#x27;, &#x27;ScreenPorch&#x27;, &#x27;Expensive&#x27;,\n",
       "       &#x27;MSSubClass&#x27;, &#x27;OverallQual&#x27;, &#x27;OverallCond&#x27;, &#x27;YearBuilt&#x27;, &#x27;YearRemo...\n",
       "                                                                                  unknown_value=-1))]),\n",
       "                                                  Index([&#x27;ExterQual&#x27;, &#x27;ExterCond&#x27;, &#x27;BsmtQual&#x27;, &#x27;BsmtCond&#x27;, &#x27;BsmtExposure&#x27;,\n",
       "       &#x27;BsmtFinType1&#x27;, &#x27;KitchenQual&#x27;, &#x27;FireplaceQu&#x27;, &#x27;LotShape&#x27;, &#x27;Utilities&#x27;,\n",
       "       &#x27;HeatingQC&#x27;, &#x27;GarageFinish&#x27;, &#x27;GarageQual&#x27;, &#x27;PavedDrive&#x27;, &#x27;Fence&#x27;],\n",
       "      dtype=&#x27;object&#x27;))])),\n",
       "                (&#x27;randomforestclassifier&#x27;,\n",
       "                 RandomForestClassifier(criterion=&#x27;log_loss&#x27;, max_depth=10,\n",
       "                                        min_samples_split=15,\n",
       "                                        random_state=12120))])</pre></div></div></div><div class=\"sk-serial\"><div class=\"sk-item sk-dashed-wrapped\"><div class=\"sk-label-container\"><div class=\"sk-label sk-toggleable\"><input class=\"sk-toggleable__control sk-hidden--visually\" id=\"sk-estimator-id-42\" type=\"checkbox\" ><label for=\"sk-estimator-id-42\" class=\"sk-toggleable__label sk-toggleable__label-arrow\">columntransformer: ColumnTransformer</label><div class=\"sk-toggleable__content\"><pre>ColumnTransformer(transformers=[(&#x27;pipeline-1&#x27;,\n",
       "                                 Pipeline(steps=[(&#x27;simpleimputer&#x27;,\n",
       "                                                  SimpleImputer(strategy=&#x27;median&#x27;))]),\n",
       "                                 Index([&#x27;LotArea&#x27;, &#x27;LotFrontage&#x27;, &#x27;TotalBsmtSF&#x27;, &#x27;BedroomAbvGr&#x27;, &#x27;Fireplaces&#x27;,\n",
       "       &#x27;PoolArea&#x27;, &#x27;GarageCars&#x27;, &#x27;WoodDeckSF&#x27;, &#x27;ScreenPorch&#x27;, &#x27;Expensive&#x27;,\n",
       "       &#x27;MSSubClass&#x27;, &#x27;OverallQual&#x27;, &#x27;OverallCond&#x27;, &#x27;YearBuilt&#x27;, &#x27;YearRemodAdd&#x27;,\n",
       "       &#x27;MasVnrArea&#x27;, &#x27;BsmtFinSF1&#x27;, &#x27;Bsmt...\n",
       "                                                                             [&#x27;NA&#x27;,\n",
       "                                                                              &#x27;Po&#x27;,\n",
       "                                                                              &#x27;Fa&#x27;,\n",
       "                                                                              &#x27;TA&#x27;,\n",
       "                                                                              &#x27;Gd&#x27;,\n",
       "                                                                              &#x27;Ex&#x27;],\n",
       "                                                                             [&#x27;N&#x27;,\n",
       "                                                                              &#x27;P&#x27;,\n",
       "                                                                              &#x27;Y&#x27;],\n",
       "                                                                             [&#x27;NA&#x27;,\n",
       "                                                                              &#x27;MnWw&#x27;,\n",
       "                                                                              &#x27;GdWo&#x27;,\n",
       "                                                                              &#x27;MnPrv&#x27;,\n",
       "                                                                              &#x27;GdPrv&#x27;]],\n",
       "                                                                 handle_unknown=&#x27;use_encoded_value&#x27;,\n",
       "                                                                 unknown_value=-1))]),\n",
       "                                 Index([&#x27;ExterQual&#x27;, &#x27;ExterCond&#x27;, &#x27;BsmtQual&#x27;, &#x27;BsmtCond&#x27;, &#x27;BsmtExposure&#x27;,\n",
       "       &#x27;BsmtFinType1&#x27;, &#x27;KitchenQual&#x27;, &#x27;FireplaceQu&#x27;, &#x27;LotShape&#x27;, &#x27;Utilities&#x27;,\n",
       "       &#x27;HeatingQC&#x27;, &#x27;GarageFinish&#x27;, &#x27;GarageQual&#x27;, &#x27;PavedDrive&#x27;, &#x27;Fence&#x27;],\n",
       "      dtype=&#x27;object&#x27;))])</pre></div></div></div><div class=\"sk-parallel\"><div class=\"sk-parallel-item\"><div class=\"sk-item\"><div class=\"sk-label-container\"><div class=\"sk-label sk-toggleable\"><input class=\"sk-toggleable__control sk-hidden--visually\" id=\"sk-estimator-id-43\" type=\"checkbox\" ><label for=\"sk-estimator-id-43\" class=\"sk-toggleable__label sk-toggleable__label-arrow\">pipeline-1</label><div class=\"sk-toggleable__content\"><pre>Index([&#x27;LotArea&#x27;, &#x27;LotFrontage&#x27;, &#x27;TotalBsmtSF&#x27;, &#x27;BedroomAbvGr&#x27;, &#x27;Fireplaces&#x27;,\n",
       "       &#x27;PoolArea&#x27;, &#x27;GarageCars&#x27;, &#x27;WoodDeckSF&#x27;, &#x27;ScreenPorch&#x27;, &#x27;Expensive&#x27;,\n",
       "       &#x27;MSSubClass&#x27;, &#x27;OverallQual&#x27;, &#x27;OverallCond&#x27;, &#x27;YearBuilt&#x27;, &#x27;YearRemodAdd&#x27;,\n",
       "       &#x27;MasVnrArea&#x27;, &#x27;BsmtFinSF1&#x27;, &#x27;BsmtFinSF2&#x27;, &#x27;BsmtUnfSF&#x27;, &#x27;1stFlrSF&#x27;,\n",
       "       &#x27;2ndFlrSF&#x27;, &#x27;LowQualFinSF&#x27;, &#x27;GrLivArea&#x27;, &#x27;BsmtFullBath&#x27;, &#x27;BsmtHalfBath&#x27;,\n",
       "       &#x27;FullBath&#x27;, &#x27;HalfBath&#x27;, &#x27;KitchenAbvGr&#x27;, &#x27;TotRmsAbvGrd&#x27;, &#x27;GarageYrBlt&#x27;,\n",
       "       &#x27;GarageArea&#x27;, &#x27;OpenPorchSF&#x27;, &#x27;EnclosedPorch&#x27;, &#x27;3SsnPorch&#x27;, &#x27;MiscVal&#x27;,\n",
       "       &#x27;MoSold&#x27;, &#x27;YrSold&#x27;],\n",
       "      dtype=&#x27;object&#x27;)</pre></div></div></div><div class=\"sk-serial\"><div class=\"sk-item\"><div class=\"sk-serial\"><div class=\"sk-item\"><div class=\"sk-estimator sk-toggleable\"><input class=\"sk-toggleable__control sk-hidden--visually\" id=\"sk-estimator-id-44\" type=\"checkbox\" ><label for=\"sk-estimator-id-44\" class=\"sk-toggleable__label sk-toggleable__label-arrow\">SimpleImputer</label><div class=\"sk-toggleable__content\"><pre>SimpleImputer(strategy=&#x27;median&#x27;)</pre></div></div></div></div></div></div></div></div><div class=\"sk-parallel-item\"><div class=\"sk-item\"><div class=\"sk-label-container\"><div class=\"sk-label sk-toggleable\"><input class=\"sk-toggleable__control sk-hidden--visually\" id=\"sk-estimator-id-45\" type=\"checkbox\" ><label for=\"sk-estimator-id-45\" class=\"sk-toggleable__label sk-toggleable__label-arrow\">pipeline-2</label><div class=\"sk-toggleable__content\"><pre>Index([&#x27;MSZoning&#x27;, &#x27;Condition1&#x27;, &#x27;CentralAir&#x27;, &#x27;Foundation&#x27;, &#x27;LandContour&#x27;,\n",
       "       &#x27;LotConfig&#x27;, &#x27;LandSlope&#x27;, &#x27;Neighborhood&#x27;, &#x27;Condition2&#x27;, &#x27;BldgType&#x27;,\n",
       "       &#x27;HouseStyle&#x27;, &#x27;RoofStyle&#x27;, &#x27;Exterior1st&#x27;, &#x27;Exterior2nd&#x27;, &#x27;MasVnrType&#x27;,\n",
       "       &#x27;Electrical&#x27;, &#x27;GarageType&#x27;, &#x27;GarageFinish&#x27;, &#x27;MiscFeature&#x27;, &#x27;SaleType&#x27;,\n",
       "       &#x27;SaleCondition&#x27;],\n",
       "      dtype=&#x27;object&#x27;)</pre></div></div></div><div class=\"sk-serial\"><div class=\"sk-item\"><div class=\"sk-serial\"><div class=\"sk-item\"><div class=\"sk-estimator sk-toggleable\"><input class=\"sk-toggleable__control sk-hidden--visually\" id=\"sk-estimator-id-46\" type=\"checkbox\" ><label for=\"sk-estimator-id-46\" class=\"sk-toggleable__label sk-toggleable__label-arrow\">SimpleImputer</label><div class=\"sk-toggleable__content\"><pre>SimpleImputer(fill_value=&#x27;unknown&#x27;, strategy=&#x27;constant&#x27;)</pre></div></div></div><div class=\"sk-item\"><div class=\"sk-estimator sk-toggleable\"><input class=\"sk-toggleable__control sk-hidden--visually\" id=\"sk-estimator-id-47\" type=\"checkbox\" ><label for=\"sk-estimator-id-47\" class=\"sk-toggleable__label sk-toggleable__label-arrow\">OneHotEncoder</label><div class=\"sk-toggleable__content\"><pre>OneHotEncoder(drop=&#x27;first&#x27;, handle_unknown=&#x27;ignore&#x27;, min_frequency=3,\n",
       "              sparse_output=False)</pre></div></div></div></div></div></div></div></div><div class=\"sk-parallel-item\"><div class=\"sk-item\"><div class=\"sk-label-container\"><div class=\"sk-label sk-toggleable\"><input class=\"sk-toggleable__control sk-hidden--visually\" id=\"sk-estimator-id-48\" type=\"checkbox\" ><label for=\"sk-estimator-id-48\" class=\"sk-toggleable__label sk-toggleable__label-arrow\">pipeline-3</label><div class=\"sk-toggleable__content\"><pre>Index([&#x27;ExterQual&#x27;, &#x27;ExterCond&#x27;, &#x27;BsmtQual&#x27;, &#x27;BsmtCond&#x27;, &#x27;BsmtExposure&#x27;,\n",
       "       &#x27;BsmtFinType1&#x27;, &#x27;KitchenQual&#x27;, &#x27;FireplaceQu&#x27;, &#x27;LotShape&#x27;, &#x27;Utilities&#x27;,\n",
       "       &#x27;HeatingQC&#x27;, &#x27;GarageFinish&#x27;, &#x27;GarageQual&#x27;, &#x27;PavedDrive&#x27;, &#x27;Fence&#x27;],\n",
       "      dtype=&#x27;object&#x27;)</pre></div></div></div><div class=\"sk-serial\"><div class=\"sk-item\"><div class=\"sk-serial\"><div class=\"sk-item\"><div class=\"sk-estimator sk-toggleable\"><input class=\"sk-toggleable__control sk-hidden--visually\" id=\"sk-estimator-id-49\" type=\"checkbox\" ><label for=\"sk-estimator-id-49\" class=\"sk-toggleable__label sk-toggleable__label-arrow\">SimpleImputer</label><div class=\"sk-toggleable__content\"><pre>SimpleImputer(fill_value=&#x27;unknown&#x27;, strategy=&#x27;constant&#x27;)</pre></div></div></div><div class=\"sk-item\"><div class=\"sk-estimator sk-toggleable\"><input class=\"sk-toggleable__control sk-hidden--visually\" id=\"sk-estimator-id-50\" type=\"checkbox\" ><label for=\"sk-estimator-id-50\" class=\"sk-toggleable__label sk-toggleable__label-arrow\">OrdinalEncoder</label><div class=\"sk-toggleable__content\"><pre>OrdinalEncoder(categories=[[&#x27;Po&#x27;, &#x27;Fa&#x27;, &#x27;TA&#x27;, &#x27;Gd&#x27;, &#x27;Ex&#x27;],\n",
       "                           [&#x27;Po&#x27;, &#x27;Fa&#x27;, &#x27;TA&#x27;, &#x27;Gd&#x27;, &#x27;Ex&#x27;],\n",
       "                           [&#x27;NA&#x27;, &#x27;Po&#x27;, &#x27;Fa&#x27;, &#x27;TA&#x27;, &#x27;Gd&#x27;, &#x27;Ex&#x27;],\n",
       "                           [&#x27;NA&#x27;, &#x27;Po&#x27;, &#x27;Fa&#x27;, &#x27;TA&#x27;, &#x27;Gd&#x27;, &#x27;Ex&#x27;],\n",
       "                           [&#x27;NA&#x27;, &#x27;No&#x27;, &#x27;Mn&#x27;, &#x27;Av&#x27;, &#x27;Gd&#x27;],\n",
       "                           [&#x27;NA&#x27;, &#x27;unf&#x27;, &#x27;LwQ&#x27;, &#x27;Rec&#x27;, &#x27;BLQ&#x27;, &#x27;ALQ&#x27;, &#x27;GLQ&#x27;],\n",
       "                           [&#x27;Po&#x27;, &#x27;Fa&#x27;, &#x27;TA&#x27;, &#x27;Gd&#x27;, &#x27;Ex&#x27;],\n",
       "                           [&#x27;Po&#x27;, &#x27;Fa&#x27;, &#x27;TA&#x27;, &#x27;Gd&#x27;, &#x27;Ex&#x27;],\n",
       "                           [&#x27;IR3&#x27;, &#x27;IR2&#x27;, &#x27;IR1&#x27;, &#x27;Reg&#x27;],\n",
       "                           [&#x27;ELO&#x27;, &#x27;NoSeWa&#x27;, &#x27;NoSewr&#x27;, &#x27;AllPub&#x27;],\n",
       "                           [&#x27;Po&#x27;, &#x27;Fa&#x27;, &#x27;TA&#x27;, &#x27;Gd&#x27;, &#x27;Ex&#x27;],\n",
       "                           [&#x27;NA&#x27;, &#x27;Unf&#x27;, &#x27;RFn&#x27;, &#x27;Fin&#x27;],\n",
       "                           [&#x27;NA&#x27;, &#x27;Po&#x27;, &#x27;Fa&#x27;, &#x27;TA&#x27;, &#x27;Gd&#x27;, &#x27;Ex&#x27;],\n",
       "                           [&#x27;N&#x27;, &#x27;P&#x27;, &#x27;Y&#x27;],\n",
       "                           [&#x27;NA&#x27;, &#x27;MnWw&#x27;, &#x27;GdWo&#x27;, &#x27;MnPrv&#x27;, &#x27;GdPrv&#x27;]],\n",
       "               handle_unknown=&#x27;use_encoded_value&#x27;, unknown_value=-1)</pre></div></div></div></div></div></div></div></div></div></div><div class=\"sk-item\"><div class=\"sk-estimator sk-toggleable\"><input class=\"sk-toggleable__control sk-hidden--visually\" id=\"sk-estimator-id-51\" type=\"checkbox\" ><label for=\"sk-estimator-id-51\" class=\"sk-toggleable__label sk-toggleable__label-arrow\">RandomForestClassifier</label><div class=\"sk-toggleable__content\"><pre>RandomForestClassifier(criterion=&#x27;log_loss&#x27;, max_depth=10, min_samples_split=15,\n",
       "                       random_state=12120)</pre></div></div></div></div></div></div></div>"
      ],
      "text/plain": [
       "Pipeline(steps=[('columntransformer',\n",
       "                 ColumnTransformer(transformers=[('pipeline-1',\n",
       "                                                  Pipeline(steps=[('simpleimputer',\n",
       "                                                                   SimpleImputer(strategy='median'))]),\n",
       "                                                  Index(['LotArea', 'LotFrontage', 'TotalBsmtSF', 'BedroomAbvGr', 'Fireplaces',\n",
       "       'PoolArea', 'GarageCars', 'WoodDeckSF', 'ScreenPorch', 'Expensive',\n",
       "       'MSSubClass', 'OverallQual', 'OverallCond', 'YearBuilt', 'YearRemo...\n",
       "                                                                                  unknown_value=-1))]),\n",
       "                                                  Index(['ExterQual', 'ExterCond', 'BsmtQual', 'BsmtCond', 'BsmtExposure',\n",
       "       'BsmtFinType1', 'KitchenQual', 'FireplaceQu', 'LotShape', 'Utilities',\n",
       "       'HeatingQC', 'GarageFinish', 'GarageQual', 'PavedDrive', 'Fence'],\n",
       "      dtype='object'))])),\n",
       "                ('randomforestclassifier',\n",
       "                 RandomForestClassifier(criterion='log_loss', max_depth=10,\n",
       "                                        min_samples_split=15,\n",
       "                                        random_state=12120))])"
      ]
     },
     "execution_count": 97,
     "metadata": {},
     "output_type": "execute_result"
    }
   ],
   "source": [
    "# Concat Train and Test Data for full set\n",
    "X = pd.concat([X_train,X_test])\n",
    "y = pd.concat([y_train,y_test])\n",
    "#Fit final model to full data \n",
    "search_final.best_estimator_.fit(X,y)"
   ]
  },
  {
   "cell_type": "code",
   "execution_count": 111,
   "id": "70e10461-6894-414a-9d08-6eb79803c0bf",
   "metadata": {},
   "outputs": [],
   "source": [
    "# Read submission test data \n",
    "new_data = pd.read_csv(\"data/test.csv\")"
   ]
  },
  {
   "cell_type": "code",
   "execution_count": 113,
   "id": "783e58be-e748-486f-a294-0ea66060a5f1",
   "metadata": {
    "tags": []
   },
   "outputs": [
    {
     "data": {
      "text/html": [
       "<div>\n",
       "<style scoped>\n",
       "    .dataframe tbody tr th:only-of-type {\n",
       "        vertical-align: middle;\n",
       "    }\n",
       "\n",
       "    .dataframe tbody tr th {\n",
       "        vertical-align: top;\n",
       "    }\n",
       "\n",
       "    .dataframe thead th {\n",
       "        text-align: right;\n",
       "    }\n",
       "</style>\n",
       "<table border=\"1\" class=\"dataframe\">\n",
       "  <thead>\n",
       "    <tr style=\"text-align: right;\">\n",
       "      <th></th>\n",
       "      <th>LotArea</th>\n",
       "      <th>LotFrontage</th>\n",
       "      <th>TotalBsmtSF</th>\n",
       "      <th>BedroomAbvGr</th>\n",
       "      <th>Fireplaces</th>\n",
       "      <th>PoolArea</th>\n",
       "      <th>GarageCars</th>\n",
       "      <th>WoodDeckSF</th>\n",
       "      <th>ScreenPorch</th>\n",
       "      <th>MSZoning</th>\n",
       "      <th>...</th>\n",
       "      <th>GarageType</th>\n",
       "      <th>GarageFinish</th>\n",
       "      <th>GarageQual</th>\n",
       "      <th>GarageCond</th>\n",
       "      <th>PavedDrive</th>\n",
       "      <th>PoolQC</th>\n",
       "      <th>Fence</th>\n",
       "      <th>MiscFeature</th>\n",
       "      <th>SaleType</th>\n",
       "      <th>SaleCondition</th>\n",
       "    </tr>\n",
       "  </thead>\n",
       "  <tbody>\n",
       "    <tr>\n",
       "      <th>0</th>\n",
       "      <td>11622</td>\n",
       "      <td>80.0</td>\n",
       "      <td>882.0</td>\n",
       "      <td>2</td>\n",
       "      <td>0</td>\n",
       "      <td>0</td>\n",
       "      <td>1.0</td>\n",
       "      <td>140</td>\n",
       "      <td>120</td>\n",
       "      <td>RH</td>\n",
       "      <td>...</td>\n",
       "      <td>Attchd</td>\n",
       "      <td>Unf</td>\n",
       "      <td>TA</td>\n",
       "      <td>TA</td>\n",
       "      <td>Y</td>\n",
       "      <td>NaN</td>\n",
       "      <td>MnPrv</td>\n",
       "      <td>NaN</td>\n",
       "      <td>WD</td>\n",
       "      <td>Normal</td>\n",
       "    </tr>\n",
       "    <tr>\n",
       "      <th>1</th>\n",
       "      <td>14267</td>\n",
       "      <td>81.0</td>\n",
       "      <td>1329.0</td>\n",
       "      <td>3</td>\n",
       "      <td>0</td>\n",
       "      <td>0</td>\n",
       "      <td>1.0</td>\n",
       "      <td>393</td>\n",
       "      <td>0</td>\n",
       "      <td>RL</td>\n",
       "      <td>...</td>\n",
       "      <td>Attchd</td>\n",
       "      <td>Unf</td>\n",
       "      <td>TA</td>\n",
       "      <td>TA</td>\n",
       "      <td>Y</td>\n",
       "      <td>NaN</td>\n",
       "      <td>NaN</td>\n",
       "      <td>Gar2</td>\n",
       "      <td>WD</td>\n",
       "      <td>Normal</td>\n",
       "    </tr>\n",
       "    <tr>\n",
       "      <th>2</th>\n",
       "      <td>13830</td>\n",
       "      <td>74.0</td>\n",
       "      <td>928.0</td>\n",
       "      <td>3</td>\n",
       "      <td>1</td>\n",
       "      <td>0</td>\n",
       "      <td>2.0</td>\n",
       "      <td>212</td>\n",
       "      <td>0</td>\n",
       "      <td>RL</td>\n",
       "      <td>...</td>\n",
       "      <td>Attchd</td>\n",
       "      <td>Fin</td>\n",
       "      <td>TA</td>\n",
       "      <td>TA</td>\n",
       "      <td>Y</td>\n",
       "      <td>NaN</td>\n",
       "      <td>MnPrv</td>\n",
       "      <td>NaN</td>\n",
       "      <td>WD</td>\n",
       "      <td>Normal</td>\n",
       "    </tr>\n",
       "    <tr>\n",
       "      <th>3</th>\n",
       "      <td>9978</td>\n",
       "      <td>78.0</td>\n",
       "      <td>926.0</td>\n",
       "      <td>3</td>\n",
       "      <td>1</td>\n",
       "      <td>0</td>\n",
       "      <td>2.0</td>\n",
       "      <td>360</td>\n",
       "      <td>0</td>\n",
       "      <td>RL</td>\n",
       "      <td>...</td>\n",
       "      <td>Attchd</td>\n",
       "      <td>Fin</td>\n",
       "      <td>TA</td>\n",
       "      <td>TA</td>\n",
       "      <td>Y</td>\n",
       "      <td>NaN</td>\n",
       "      <td>NaN</td>\n",
       "      <td>NaN</td>\n",
       "      <td>WD</td>\n",
       "      <td>Normal</td>\n",
       "    </tr>\n",
       "    <tr>\n",
       "      <th>4</th>\n",
       "      <td>5005</td>\n",
       "      <td>43.0</td>\n",
       "      <td>1280.0</td>\n",
       "      <td>2</td>\n",
       "      <td>0</td>\n",
       "      <td>0</td>\n",
       "      <td>2.0</td>\n",
       "      <td>0</td>\n",
       "      <td>144</td>\n",
       "      <td>RL</td>\n",
       "      <td>...</td>\n",
       "      <td>Attchd</td>\n",
       "      <td>RFn</td>\n",
       "      <td>TA</td>\n",
       "      <td>TA</td>\n",
       "      <td>Y</td>\n",
       "      <td>NaN</td>\n",
       "      <td>NaN</td>\n",
       "      <td>NaN</td>\n",
       "      <td>WD</td>\n",
       "      <td>Normal</td>\n",
       "    </tr>\n",
       "    <tr>\n",
       "      <th>...</th>\n",
       "      <td>...</td>\n",
       "      <td>...</td>\n",
       "      <td>...</td>\n",
       "      <td>...</td>\n",
       "      <td>...</td>\n",
       "      <td>...</td>\n",
       "      <td>...</td>\n",
       "      <td>...</td>\n",
       "      <td>...</td>\n",
       "      <td>...</td>\n",
       "      <td>...</td>\n",
       "      <td>...</td>\n",
       "      <td>...</td>\n",
       "      <td>...</td>\n",
       "      <td>...</td>\n",
       "      <td>...</td>\n",
       "      <td>...</td>\n",
       "      <td>...</td>\n",
       "      <td>...</td>\n",
       "      <td>...</td>\n",
       "      <td>...</td>\n",
       "    </tr>\n",
       "    <tr>\n",
       "      <th>1454</th>\n",
       "      <td>1936</td>\n",
       "      <td>21.0</td>\n",
       "      <td>546.0</td>\n",
       "      <td>3</td>\n",
       "      <td>0</td>\n",
       "      <td>0</td>\n",
       "      <td>0.0</td>\n",
       "      <td>0</td>\n",
       "      <td>0</td>\n",
       "      <td>RM</td>\n",
       "      <td>...</td>\n",
       "      <td>NaN</td>\n",
       "      <td>NaN</td>\n",
       "      <td>NaN</td>\n",
       "      <td>NaN</td>\n",
       "      <td>Y</td>\n",
       "      <td>NaN</td>\n",
       "      <td>NaN</td>\n",
       "      <td>NaN</td>\n",
       "      <td>WD</td>\n",
       "      <td>Normal</td>\n",
       "    </tr>\n",
       "    <tr>\n",
       "      <th>1455</th>\n",
       "      <td>1894</td>\n",
       "      <td>21.0</td>\n",
       "      <td>546.0</td>\n",
       "      <td>3</td>\n",
       "      <td>0</td>\n",
       "      <td>0</td>\n",
       "      <td>1.0</td>\n",
       "      <td>0</td>\n",
       "      <td>0</td>\n",
       "      <td>RM</td>\n",
       "      <td>...</td>\n",
       "      <td>CarPort</td>\n",
       "      <td>Unf</td>\n",
       "      <td>TA</td>\n",
       "      <td>TA</td>\n",
       "      <td>Y</td>\n",
       "      <td>NaN</td>\n",
       "      <td>NaN</td>\n",
       "      <td>NaN</td>\n",
       "      <td>WD</td>\n",
       "      <td>Abnorml</td>\n",
       "    </tr>\n",
       "    <tr>\n",
       "      <th>1456</th>\n",
       "      <td>20000</td>\n",
       "      <td>160.0</td>\n",
       "      <td>1224.0</td>\n",
       "      <td>4</td>\n",
       "      <td>1</td>\n",
       "      <td>0</td>\n",
       "      <td>2.0</td>\n",
       "      <td>474</td>\n",
       "      <td>0</td>\n",
       "      <td>RL</td>\n",
       "      <td>...</td>\n",
       "      <td>Detchd</td>\n",
       "      <td>Unf</td>\n",
       "      <td>TA</td>\n",
       "      <td>TA</td>\n",
       "      <td>Y</td>\n",
       "      <td>NaN</td>\n",
       "      <td>NaN</td>\n",
       "      <td>NaN</td>\n",
       "      <td>WD</td>\n",
       "      <td>Abnorml</td>\n",
       "    </tr>\n",
       "    <tr>\n",
       "      <th>1457</th>\n",
       "      <td>10441</td>\n",
       "      <td>62.0</td>\n",
       "      <td>912.0</td>\n",
       "      <td>3</td>\n",
       "      <td>0</td>\n",
       "      <td>0</td>\n",
       "      <td>0.0</td>\n",
       "      <td>80</td>\n",
       "      <td>0</td>\n",
       "      <td>RL</td>\n",
       "      <td>...</td>\n",
       "      <td>NaN</td>\n",
       "      <td>NaN</td>\n",
       "      <td>NaN</td>\n",
       "      <td>NaN</td>\n",
       "      <td>Y</td>\n",
       "      <td>NaN</td>\n",
       "      <td>MnPrv</td>\n",
       "      <td>Shed</td>\n",
       "      <td>WD</td>\n",
       "      <td>Normal</td>\n",
       "    </tr>\n",
       "    <tr>\n",
       "      <th>1458</th>\n",
       "      <td>9627</td>\n",
       "      <td>74.0</td>\n",
       "      <td>996.0</td>\n",
       "      <td>3</td>\n",
       "      <td>1</td>\n",
       "      <td>0</td>\n",
       "      <td>3.0</td>\n",
       "      <td>190</td>\n",
       "      <td>0</td>\n",
       "      <td>RL</td>\n",
       "      <td>...</td>\n",
       "      <td>Attchd</td>\n",
       "      <td>Fin</td>\n",
       "      <td>TA</td>\n",
       "      <td>TA</td>\n",
       "      <td>Y</td>\n",
       "      <td>NaN</td>\n",
       "      <td>NaN</td>\n",
       "      <td>NaN</td>\n",
       "      <td>WD</td>\n",
       "      <td>Normal</td>\n",
       "    </tr>\n",
       "  </tbody>\n",
       "</table>\n",
       "<p>1459 rows × 79 columns</p>\n",
       "</div>"
      ],
      "text/plain": [
       "      LotArea  LotFrontage  TotalBsmtSF  BedroomAbvGr  Fireplaces  PoolArea  \\\n",
       "0       11622         80.0        882.0             2           0         0   \n",
       "1       14267         81.0       1329.0             3           0         0   \n",
       "2       13830         74.0        928.0             3           1         0   \n",
       "3        9978         78.0        926.0             3           1         0   \n",
       "4        5005         43.0       1280.0             2           0         0   \n",
       "...       ...          ...          ...           ...         ...       ...   \n",
       "1454     1936         21.0        546.0             3           0         0   \n",
       "1455     1894         21.0        546.0             3           0         0   \n",
       "1456    20000        160.0       1224.0             4           1         0   \n",
       "1457    10441         62.0        912.0             3           0         0   \n",
       "1458     9627         74.0        996.0             3           1         0   \n",
       "\n",
       "      GarageCars  WoodDeckSF  ScreenPorch MSZoning  ... GarageType  \\\n",
       "0            1.0         140          120       RH  ...     Attchd   \n",
       "1            1.0         393            0       RL  ...     Attchd   \n",
       "2            2.0         212            0       RL  ...     Attchd   \n",
       "3            2.0         360            0       RL  ...     Attchd   \n",
       "4            2.0           0          144       RL  ...     Attchd   \n",
       "...          ...         ...          ...      ...  ...        ...   \n",
       "1454         0.0           0            0       RM  ...        NaN   \n",
       "1455         1.0           0            0       RM  ...    CarPort   \n",
       "1456         2.0         474            0       RL  ...     Detchd   \n",
       "1457         0.0          80            0       RL  ...        NaN   \n",
       "1458         3.0         190            0       RL  ...     Attchd   \n",
       "\n",
       "     GarageFinish GarageQual GarageCond PavedDrive PoolQC  Fence MiscFeature  \\\n",
       "0             Unf         TA         TA          Y    NaN  MnPrv         NaN   \n",
       "1             Unf         TA         TA          Y    NaN    NaN        Gar2   \n",
       "2             Fin         TA         TA          Y    NaN  MnPrv         NaN   \n",
       "3             Fin         TA         TA          Y    NaN    NaN         NaN   \n",
       "4             RFn         TA         TA          Y    NaN    NaN         NaN   \n",
       "...           ...        ...        ...        ...    ...    ...         ...   \n",
       "1454          NaN        NaN        NaN          Y    NaN    NaN         NaN   \n",
       "1455          Unf         TA         TA          Y    NaN    NaN         NaN   \n",
       "1456          Unf         TA         TA          Y    NaN    NaN         NaN   \n",
       "1457          NaN        NaN        NaN          Y    NaN  MnPrv        Shed   \n",
       "1458          Fin         TA         TA          Y    NaN    NaN         NaN   \n",
       "\n",
       "     SaleType SaleCondition  \n",
       "0          WD        Normal  \n",
       "1          WD        Normal  \n",
       "2          WD        Normal  \n",
       "3          WD        Normal  \n",
       "4          WD        Normal  \n",
       "...       ...           ...  \n",
       "1454       WD        Normal  \n",
       "1455       WD       Abnorml  \n",
       "1456       WD       Abnorml  \n",
       "1457       WD        Normal  \n",
       "1458       WD        Normal  \n",
       "\n",
       "[1459 rows x 79 columns]"
      ]
     },
     "execution_count": 113,
     "metadata": {},
     "output_type": "execute_result"
    }
   ],
   "source": [
    "# delete ID column\n",
    "id_col = new_data.pop('Id')\n",
    "new_data"
   ]
  },
  {
   "cell_type": "code",
   "execution_count": 117,
   "id": "ab45ffd7-054d-4aea-b5fa-1c1fb9f0f4da",
   "metadata": {},
   "outputs": [],
   "source": [
    "# Predict final model on New test data\n",
    "expensive = search_final.predict(X_test)"
   ]
  },
  {
   "cell_type": "code",
   "execution_count": null,
   "id": "59c0a01b-4d5a-44c6-8250-e3adf4790dfb",
   "metadata": {
    "tags": []
   },
   "outputs": [],
   "source": [
    "# Create submission\n",
    "submission_file = pd.DataFrame({\n",
    "    'Id':id_col,\n",
    "    'Expensive':expensive\n",
    "})\n",
    "submission_file.to_csv('data/submission_marsu.csv',index=False) "
   ]
  }
 ],
 "metadata": {
  "kernelspec": {
   "display_name": "Python 3 (ipykernel)",
   "language": "python",
   "name": "python3"
  },
  "language_info": {
   "codemirror_mode": {
    "name": "ipython",
    "version": 3
   },
   "file_extension": ".py",
   "mimetype": "text/x-python",
   "name": "python",
   "nbconvert_exporter": "python",
   "pygments_lexer": "ipython3",
   "version": "3.11.5"
  }
 },
 "nbformat": 4,
 "nbformat_minor": 5
}
