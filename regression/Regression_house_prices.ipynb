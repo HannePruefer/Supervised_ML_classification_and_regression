{
 "cells": [
  {
   "cell_type": "code",
   "execution_count": 1,
   "id": "0b577756",
   "metadata": {
    "_cell_guid": "b1076dfc-b9ad-4769-8c92-a6c4dae69d19",
    "_uuid": "8f2839f25d086af736a60e9eeb907d3b93b6e0e5",
    "execution": {
     "iopub.execute_input": "2024-02-09T16:10:37.071744Z",
     "iopub.status.busy": "2024-02-09T16:10:37.070814Z",
     "iopub.status.idle": "2024-02-09T16:10:38.030136Z",
     "shell.execute_reply": "2024-02-09T16:10:38.029063Z"
    },
    "papermill": {
     "duration": 0.974202,
     "end_time": "2024-02-09T16:10:38.032717",
     "exception": false,
     "start_time": "2024-02-09T16:10:37.058515",
     "status": "completed"
    },
    "tags": []
   },
   "outputs": [
    {
     "name": "stdout",
     "output_type": "stream",
     "text": [
      "/kaggle/input/house-prices-advanced-regression-techniques/sample_submission.csv\n",
      "/kaggle/input/house-prices-advanced-regression-techniques/data_description.txt\n",
      "/kaggle/input/house-prices-advanced-regression-techniques/train.csv\n",
      "/kaggle/input/house-prices-advanced-regression-techniques/test.csv\n"
     ]
    }
   ],
   "source": [
    "# This Python 3 environment comes with many helpful analytics libraries installed\n",
    "# It is defined by the kaggle/python Docker image: https://github.com/kaggle/docker-python\n",
    "# For example, here's several helpful packages to load\n",
    "\n",
    "import numpy as np # linear algebra\n",
    "import pandas as pd # data processing, CSV file I/O (e.g. pd.read_csv)\n",
    "\n",
    "# Input data files are available in the read-only \"../input/\" directory\n",
    "# For example, running this (by clicking run or pressing Shift+Enter) will list all files under the input directory\n",
    "\n",
    "import os\n",
    "for dirname, _, filenames in os.walk('/kaggle/input'):\n",
    "    for filename in filenames:\n",
    "        print(os.path.join(dirname, filename))\n",
    "\n",
    "# You can write up to 20GB to the current directory (/kaggle/working/) that gets preserved as output when you create a version using \"Save & Run All\" \n",
    "# You can also write temporary files to /kaggle/temp/, but they won't be saved outside of the current session"
   ]
  },
  {
   "cell_type": "markdown",
   "id": "75cdb505",
   "metadata": {
    "papermill": {
     "duration": 0.009696,
     "end_time": "2024-02-09T16:10:38.052757",
     "exception": false,
     "start_time": "2024-02-09T16:10:38.043061",
     "status": "completed"
    },
    "tags": []
   },
   "source": [
    "# Housing prices prediction in Iowa"
   ]
  },
  {
   "cell_type": "markdown",
   "id": "f9875e36-c0d4-41c6-8b12-a4cc25b7105c",
   "metadata": {},
   "source": [
    "The task: create a model that predicts the price of a house based on its characteristics.\n",
    "Basis is a datase with 1460 houses and 79 describing features.  \n",
    "Explanation of features can be found in the txt file data_description.\n",
    "entered into Kaggle competition"
   ]
  },
  {
   "cell_type": "code",
   "execution_count": 2,
   "id": "e8579b7d",
   "metadata": {
    "papermill": {
     "duration": 2.270821,
     "end_time": "2024-02-09T16:10:40.333390",
     "exception": false,
     "start_time": "2024-02-09T16:10:38.062569",
     "status": "completed"
    },
    "tags": []
   },
   "outputs": [],
   "source": [
    "import pandas as pd\n",
    "import matplotlib.pyplot as plt\n",
    "import seaborn as sns\n",
    "\n",
    "from sklearn.impute import SimpleImputer, KNNImputer\n",
    "from sklearn.preprocessing import OneHotEncoder, OrdinalEncoder, MinMaxScaler, StandardScaler, RobustScaler\n",
    "from sklearn.compose import make_column_transformer, make_column_selector\n",
    "from sklearn.pipeline import make_pipeline\n",
    "from sklearn.model_selection import train_test_split, GridSearchCV, RandomizedSearchCV\n",
    "from sklearn.neighbors import KNeighborsRegressor\n",
    "from sklearn.tree import DecisionTreeRegressor\n",
    "from sklearn.metrics import mean_absolute_error, mean_absolute_percentage_error, r2_score\n",
    "from sklearn.linear_model import ElasticNet\n",
    "from sklearn.ensemble import RandomForestRegressor, GradientBoostingRegressor\n",
    "from sklearn.svm import SVR\n",
    "from sklearn.feature_selection import SelectKBest, f_regression, RFECV, SelectFromModel\n",
    "from sklearn import set_config\n",
    "set_config(transform_output=\"pandas\")"
   ]
  },
  {
   "cell_type": "markdown",
   "id": "7d0527f6",
   "metadata": {
    "papermill": {
     "duration": 0.009673,
     "end_time": "2024-02-09T16:10:40.353129",
     "exception": false,
     "start_time": "2024-02-09T16:10:40.343456",
     "status": "completed"
    },
    "tags": []
   },
   "source": [
    "## Data Import"
   ]
  },
  {
   "cell_type": "code",
   "execution_count": null,
   "id": "c4ca86e4",
   "metadata": {
    "papermill": {
     "duration": 0.119703,
     "end_time": "2024-02-09T16:10:40.482843",
     "exception": false,
     "start_time": "2024-02-09T16:10:40.363140",
     "status": "completed"
    },
    "tags": []
   },
   "outputs": [],
   "source": [
    "houses_df = pd.read_csv('/data/train_regression.csv')\n",
    "\n",
    "X = houses_df.copy().drop_duplicates()\n",
    "X = X.drop(columns=[\"Id\"])\n",
    "y = X.pop(\"SalePrice\")\n",
    "X_train, X_test,y_train, y_test = train_test_split(X,y,test_size = 0.2, random_state = 12120)"
   ]
  },
  {
   "cell_type": "code",
   "execution_count": 4,
   "id": "bed7232c",
   "metadata": {
    "execution": {
     "iopub.execute_input": "2024-02-09T16:10:40.505485Z",
     "iopub.status.busy": "2024-02-09T16:10:40.504614Z",
     "iopub.status.idle": "2024-02-09T16:10:40.512919Z",
     "shell.execute_reply": "2024-02-09T16:10:40.511453Z"
    },
    "papermill": {
     "duration": 0.02265,
     "end_time": "2024-02-09T16:10:40.515579",
     "exception": false,
     "start_time": "2024-02-09T16:10:40.492929",
     "status": "completed"
    },
    "tags": []
   },
   "outputs": [
    {
     "data": {
      "text/plain": [
       "(1168, 79)"
      ]
     },
     "execution_count": 4,
     "metadata": {},
     "output_type": "execute_result"
    }
   ],
   "source": [
    "X_train.shape"
   ]
  },
  {
   "cell_type": "markdown",
   "id": "a46d5587",
   "metadata": {
    "papermill": {
     "duration": 0.00965,
     "end_time": "2024-02-09T16:10:40.535400",
     "exception": false,
     "start_time": "2024-02-09T16:10:40.525750",
     "status": "completed"
    },
    "tags": []
   },
   "source": [
    "## Ordinal encoding"
   ]
  },
  {
   "cell_type": "code",
   "execution_count": 5,
   "id": "6bb6b920",
   "metadata": {
    "execution": {
     "iopub.execute_input": "2024-02-09T16:10:40.558622Z",
     "iopub.status.busy": "2024-02-09T16:10:40.558164Z",
     "iopub.status.idle": "2024-02-09T16:10:40.573901Z",
     "shell.execute_reply": "2024-02-09T16:10:40.572644Z"
    },
    "papermill": {
     "duration": 0.030291,
     "end_time": "2024-02-09T16:10:40.576763",
     "exception": false,
     "start_time": "2024-02-09T16:10:40.546472",
     "status": "completed"
    },
    "tags": []
   },
   "outputs": [],
   "source": [
    "# define the order of the categories within each feature that will be encoded ordinal\n",
    "\n",
    "ExterQual_ord = [\"Po\", \"Fa\", \"TA\", \"Gd\", \"Ex\"]\n",
    "ExterCond_ord = [\"Po\", \"Fa\", \"TA\", \"Gd\", \"Ex\"]\n",
    "BsmtQual_ord = [\"NA\",\"Po\", \"Fa\", \"TA\", \"Gd\", \"Ex\"]\n",
    "BsmtCond_ord = [\"NA\",\"Po\", \"Fa\", \"TA\", \"Gd\", \"Ex\"]\n",
    "BsmtExposure_ord = [\"NA\", \"Po\", \"Mn\", \"Av\", \"Gd\"]\n",
    "BsmtFinType1_ord = [\"NA\", \"unf\", \"LwQ\", \"Rec\", \"BLQ\", \"ALQ\", \"GLQ\"]\n",
    "KitchenQual_ord = [\"Po\", \"Fa\", \"TA\", \"Gd\", \"Ex\"]\n",
    "FireplaceQu_ord = [\"Po\", \"Fa\", \"TA\", \"Gd\", \"Ex\"]\n",
    "LotShape_ord = [\"IR3\",\"IR2\", \"IR1\",\"Reg\"]\n",
    "Utilities_ord = [\"ELO\",\"NoSeWa\",\"NoSewr\",\"AllPub\"]\n",
    "HeatingQC_ord = [\"Po\", \"Fa\", \"TA\", \"Gd\", \"Ex\"]\n",
    "GarageFinish_ord = [\"NA\",\"Unf\", \"RFn\",\"Fin\"]\n",
    "GarageQual_ord = [\"NA\",\"Po\", \"Fa\", \"TA\", \"Gd\", \"Ex\"]\n",
    "PavedDrive_ord = [\"N\",\"P\",\"Y\"]\n",
    "Fence_ord= [\"NA\", \"MnWw\",\"GdWo\",\"MnPrv\",\"GdPrv\"]\n",
    "BsmtFinType2_ord = [\"NA\", \"unf\", \"LwQ\", \"Rec\", \"BLQ\", \"ALQ\", \"GLQ\"] \n",
    "CentralAir_ord  = [\"N\", \"Y\"]  \n",
    "Functional_ord =   [\"Sal\", \"Sev\", \"Maj2\",\"Maj1\", \"Mod\", \"Min2\", \"Min1;Typ\"]\n",
    "GarageCond_ord =    [\"NA\",\"Po\", \"Fa\", \"TA\", \"Gd\", \"Ex\"]\n",
    "PoolQC_ord =       [\"NA\", \"Fa\", \"TA\", \"Gd\", \"Ex\"]\n",
    "          \n",
    "\n",
    "# dictionary with all features to pass into ordinal encoding\n",
    "category_order= {\"ExterQual\": ExterQual_ord, \n",
    "            \"ExterCond\": ExterCond_ord,\n",
    "            \"BsmtQual\": BsmtQual_ord,\n",
    "            \"BsmtCond\": BsmtCond_ord,\n",
    "            \"BsmtExposure\": BsmtExposure_ord,\n",
    "            \"BsmtFinType1\": BsmtFinType1_ord, \n",
    "            \"BsmtFinType2\": BsmtFinType2_ord, #\n",
    "            \"KitchenQual\": KitchenQual_ord,\n",
    "            \"FireplaceQu\": FireplaceQu_ord,\n",
    "            \"LotShape\" : LotShape_ord ,\n",
    "            \"Utilities\" : Utilities_ord ,\n",
    "            \"HeatingQC\" : HeatingQC_ord ,\n",
    "            \"GarageFinish\" : GarageFinish_ord ,\n",
    "            \"GarageQual\" : GarageQual_ord ,\n",
    "            \"PavedDrive\" : PavedDrive_ord ,\n",
    "            \"Fence\" : Fence_ord,\n",
    "            \"CentralAir\" : CentralAir_ord,\n",
    "            \"Functional\": Functional_ord,\n",
    "            \"GarageCond\" : GarageCond_ord,\n",
    "            \"PoolQC\" : PoolQC_ord    ,\n",
    "               \n",
    "               }\n",
    "\n"
   ]
  },
  {
   "cell_type": "markdown",
   "id": "e94c208b",
   "metadata": {
    "papermill": {
     "duration": 0.010167,
     "end_time": "2024-02-09T16:10:40.597218",
     "exception": false,
     "start_time": "2024-02-09T16:10:40.587051",
     "status": "completed"
    },
    "tags": []
   },
   "source": [
    "## Pipeline without scaler \n",
    "- Pipeline setup in a function\n",
    "- Pipeline input"
   ]
  },
  {
   "cell_type": "code",
   "execution_count": 6,
   "id": "7feb6fe2",
   "metadata": {
    "execution": {
     "iopub.execute_input": "2024-02-09T16:10:40.619782Z",
     "iopub.status.busy": "2024-02-09T16:10:40.619299Z",
     "iopub.status.idle": "2024-02-09T16:10:40.629535Z",
     "shell.execute_reply": "2024-02-09T16:10:40.628375Z"
    },
    "papermill": {
     "duration": 0.024539,
     "end_time": "2024-02-09T16:10:40.632001",
     "exception": false,
     "start_time": "2024-02-09T16:10:40.607462",
     "status": "completed"
    },
    "tags": []
   },
   "outputs": [],
   "source": [
    "def no_scaling_pipe(model, X_cat, X_num, X_ord):\n",
    "    \"\"\"\n",
    "    Creates the pipeline for preprocessing and modeling without scaling numerical features.\n",
    "\n",
    "    Parameters:\n",
    "    - model: The machine learning model to be used.\n",
    "    - X_cat: The categorical features of the dataset.\n",
    "    - X_num: The numerical features of the dataset.\n",
    "    - X_ord: The ordinal features of the dataset.\n",
    "\n",
    "    Returns:\n",
    "    - no_scale_pipe: The machine learning pipeline without scaling numerical features.\n",
    "    \"\"\"\n",
    "\n",
    "    # Create encoders for categorical and ordinal features\n",
    "    hot = OneHotEncoder(sparse_output=False, drop=\"first\", handle_unknown=\"ignore\")\n",
    "    ordinal = OrdinalEncoder(categories=[category_order[feature] for feature in category_order],\n",
    "                             handle_unknown = \"use_encoded_value\",\n",
    "                             unknown_value = -1)\n",
    "    model_tree = SelectFromModel(DecisionTreeRegressor())\n",
    "    \n",
    "                                        \n",
    "    # Create pipelines for numerical, categorical, and ordinal features\n",
    "    num_pipe = make_pipeline(SimpleImputer())\n",
    "    cat_pipe = make_pipeline(SimpleImputer(strategy=\"constant\", fill_value=\"unknown\"), hot)\n",
    "    ord_pipe = make_pipeline(SimpleImputer(strategy=\"constant\",fill_value=\"unknown\"), ordinal)\n",
    "\n",
    "    # Create a column transformer to apply the pipelines to the respective features\n",
    "    preprocessor = make_column_transformer(\n",
    "        (num_pipe, X_num),\n",
    "        (cat_pipe, X_cat),\n",
    "        (ord_pipe, X_ord)\n",
    "    )\n",
    "\n",
    "    # Create the final pipeline by combining the preprocessor and the model\n",
    "    no_scale_pipe = make_pipeline(preprocessor,model_tree,model)\n",
    "\n",
    "    return no_scale_pipe"
   ]
  },
  {
   "cell_type": "markdown",
   "id": "d0123b40",
   "metadata": {
    "papermill": {
     "duration": 0.009708,
     "end_time": "2024-02-09T16:10:40.652086",
     "exception": false,
     "start_time": "2024-02-09T16:10:40.642378",
     "status": "completed"
    },
    "tags": []
   },
   "source": [
    "Division of the features into numerical, categorical and ordinal "
   ]
  },
  {
   "cell_type": "code",
   "execution_count": 7,
   "id": "086b06f7",
   "metadata": {
    "execution": {
     "iopub.execute_input": "2024-02-09T16:10:40.674687Z",
     "iopub.status.busy": "2024-02-09T16:10:40.673816Z",
     "iopub.status.idle": "2024-02-09T16:10:40.689728Z",
     "shell.execute_reply": "2024-02-09T16:10:40.688578Z"
    },
    "papermill": {
     "duration": 0.030301,
     "end_time": "2024-02-09T16:10:40.692567",
     "exception": false,
     "start_time": "2024-02-09T16:10:40.662266",
     "status": "completed"
    },
    "tags": []
   },
   "outputs": [],
   "source": [
    "# select numerical features\n",
    "X_num = X_train.select_dtypes(include=\"number\").columns\n",
    "#select non numerical featurs\n",
    "no_nums = X_train.select_dtypes(exclude=\"number\").columns.to_list()\n",
    "# build a list with all columns that are keys in the dictionary category_order\n",
    "X_ord = [ordinal for ordinal in no_nums if ordinal in category_order.keys()]\n",
    "#build a list with the rest \n",
    "X_cat = [cat for cat in no_nums if not cat in category_order.keys()]\n"
   ]
  },
  {
   "cell_type": "markdown",
   "id": "207a2e47",
   "metadata": {
    "papermill": {
     "duration": 0.009642,
     "end_time": "2024-02-09T16:10:40.712230",
     "exception": false,
     "start_time": "2024-02-09T16:10:40.702588",
     "status": "completed"
    },
    "tags": []
   },
   "source": [
    "create the pipeline"
   ]
  },
  {
   "cell_type": "code",
   "execution_count": 8,
   "id": "8d40315c",
   "metadata": {
    "execution": {
     "iopub.execute_input": "2024-02-09T16:10:40.734011Z",
     "iopub.status.busy": "2024-02-09T16:10:40.733569Z",
     "iopub.status.idle": "2024-02-09T16:10:40.739045Z",
     "shell.execute_reply": "2024-02-09T16:10:40.737899Z"
    },
    "papermill": {
     "duration": 0.019088,
     "end_time": "2024-02-09T16:10:40.741221",
     "exception": false,
     "start_time": "2024-02-09T16:10:40.722133",
     "status": "completed"
    },
    "tags": []
   },
   "outputs": [],
   "source": [
    "model = GradientBoostingRegressor(random_state=12120)\n",
    "full_pipe = no_scaling_pipe(model, X_cat,X_num,X_ord)"
   ]
  },
  {
   "cell_type": "code",
   "execution_count": 9,
   "id": "6dad8272",
   "metadata": {
    "execution": {
     "iopub.execute_input": "2024-02-09T16:10:40.763117Z",
     "iopub.status.busy": "2024-02-09T16:10:40.762702Z",
     "iopub.status.idle": "2024-02-09T16:10:41.008653Z",
     "shell.execute_reply": "2024-02-09T16:10:41.007435Z"
    },
    "papermill": {
     "duration": 0.260003,
     "end_time": "2024-02-09T16:10:41.011432",
     "exception": false,
     "start_time": "2024-02-09T16:10:40.751429",
     "status": "completed"
    },
    "tags": []
   },
   "outputs": [
    {
     "data": {
      "text/html": [
       "<style>#sk-container-id-1 {color: black;background-color: white;}#sk-container-id-1 pre{padding: 0;}#sk-container-id-1 div.sk-toggleable {background-color: white;}#sk-container-id-1 label.sk-toggleable__label {cursor: pointer;display: block;width: 100%;margin-bottom: 0;padding: 0.3em;box-sizing: border-box;text-align: center;}#sk-container-id-1 label.sk-toggleable__label-arrow:before {content: \"▸\";float: left;margin-right: 0.25em;color: #696969;}#sk-container-id-1 label.sk-toggleable__label-arrow:hover:before {color: black;}#sk-container-id-1 div.sk-estimator:hover label.sk-toggleable__label-arrow:before {color: black;}#sk-container-id-1 div.sk-toggleable__content {max-height: 0;max-width: 0;overflow: hidden;text-align: left;background-color: #f0f8ff;}#sk-container-id-1 div.sk-toggleable__content pre {margin: 0.2em;color: black;border-radius: 0.25em;background-color: #f0f8ff;}#sk-container-id-1 input.sk-toggleable__control:checked~div.sk-toggleable__content {max-height: 200px;max-width: 100%;overflow: auto;}#sk-container-id-1 input.sk-toggleable__control:checked~label.sk-toggleable__label-arrow:before {content: \"▾\";}#sk-container-id-1 div.sk-estimator input.sk-toggleable__control:checked~label.sk-toggleable__label {background-color: #d4ebff;}#sk-container-id-1 div.sk-label input.sk-toggleable__control:checked~label.sk-toggleable__label {background-color: #d4ebff;}#sk-container-id-1 input.sk-hidden--visually {border: 0;clip: rect(1px 1px 1px 1px);clip: rect(1px, 1px, 1px, 1px);height: 1px;margin: -1px;overflow: hidden;padding: 0;position: absolute;width: 1px;}#sk-container-id-1 div.sk-estimator {font-family: monospace;background-color: #f0f8ff;border: 1px dotted black;border-radius: 0.25em;box-sizing: border-box;margin-bottom: 0.5em;}#sk-container-id-1 div.sk-estimator:hover {background-color: #d4ebff;}#sk-container-id-1 div.sk-parallel-item::after {content: \"\";width: 100%;border-bottom: 1px solid gray;flex-grow: 1;}#sk-container-id-1 div.sk-label:hover label.sk-toggleable__label {background-color: #d4ebff;}#sk-container-id-1 div.sk-serial::before {content: \"\";position: absolute;border-left: 1px solid gray;box-sizing: border-box;top: 0;bottom: 0;left: 50%;z-index: 0;}#sk-container-id-1 div.sk-serial {display: flex;flex-direction: column;align-items: center;background-color: white;padding-right: 0.2em;padding-left: 0.2em;position: relative;}#sk-container-id-1 div.sk-item {position: relative;z-index: 1;}#sk-container-id-1 div.sk-parallel {display: flex;align-items: stretch;justify-content: center;background-color: white;position: relative;}#sk-container-id-1 div.sk-item::before, #sk-container-id-1 div.sk-parallel-item::before {content: \"\";position: absolute;border-left: 1px solid gray;box-sizing: border-box;top: 0;bottom: 0;left: 50%;z-index: -1;}#sk-container-id-1 div.sk-parallel-item {display: flex;flex-direction: column;z-index: 1;position: relative;background-color: white;}#sk-container-id-1 div.sk-parallel-item:first-child::after {align-self: flex-end;width: 50%;}#sk-container-id-1 div.sk-parallel-item:last-child::after {align-self: flex-start;width: 50%;}#sk-container-id-1 div.sk-parallel-item:only-child::after {width: 0;}#sk-container-id-1 div.sk-dashed-wrapped {border: 1px dashed gray;margin: 0 0.4em 0.5em 0.4em;box-sizing: border-box;padding-bottom: 0.4em;background-color: white;}#sk-container-id-1 div.sk-label label {font-family: monospace;font-weight: bold;display: inline-block;line-height: 1.2em;}#sk-container-id-1 div.sk-label-container {text-align: center;}#sk-container-id-1 div.sk-container {/* jupyter's `normalize.less` sets `[hidden] { display: none; }` but bootstrap.min.css set `[hidden] { display: none !important; }` so we also need the `!important` here to be able to override the default hidden behavior on the sphinx rendered scikit-learn.org. See: https://github.com/scikit-learn/scikit-learn/issues/21755 */display: inline-block !important;position: relative;}#sk-container-id-1 div.sk-text-repr-fallback {display: none;}</style><div id=\"sk-container-id-1\" class=\"sk-top-container\"><div class=\"sk-text-repr-fallback\"><pre>Pipeline(steps=[(&#x27;columntransformer&#x27;,\n",
       "                 ColumnTransformer(transformers=[(&#x27;pipeline-1&#x27;,\n",
       "                                                  Pipeline(steps=[(&#x27;simpleimputer&#x27;,\n",
       "                                                                   SimpleImputer())]),\n",
       "                                                  Index([&#x27;MSSubClass&#x27;, &#x27;LotFrontage&#x27;, &#x27;LotArea&#x27;, &#x27;OverallQual&#x27;, &#x27;OverallCond&#x27;,\n",
       "       &#x27;YearBuilt&#x27;, &#x27;YearRemodAdd&#x27;, &#x27;MasVnrArea&#x27;, &#x27;BsmtFinSF1&#x27;, &#x27;BsmtFinSF2&#x27;,\n",
       "       &#x27;BsmtUnfSF&#x27;, &#x27;TotalBsmtSF&#x27;, &#x27;1stFlrSF&#x27;, &#x27;2ndFlrSF&#x27;, &#x27;LowQualFinSF&#x27;,\n",
       "       &#x27;GrLivArea&#x27;, &#x27;B...\n",
       "       &#x27;BsmtCond&#x27;, &#x27;BsmtExposure&#x27;, &#x27;BsmtFinType1&#x27;, &#x27;BsmtFinType2&#x27;, &#x27;HeatingQC&#x27;,\n",
       "       &#x27;CentralAir&#x27;, &#x27;KitchenQual&#x27;, &#x27;Functional&#x27;, &#x27;FireplaceQu&#x27;,\n",
       "       &#x27;GarageFinish&#x27;, &#x27;GarageQual&#x27;, &#x27;GarageCond&#x27;, &#x27;PavedDrive&#x27;, &#x27;PoolQC&#x27;,\n",
       "       &#x27;Fence&#x27;],\n",
       "      dtype=&#x27;object&#x27;))])),\n",
       "                (&#x27;selectfrommodel&#x27;,\n",
       "                 SelectFromModel(estimator=DecisionTreeRegressor())),\n",
       "                (&#x27;gradientboostingregressor&#x27;,\n",
       "                 GradientBoostingRegressor(random_state=12120))])</pre><b>In a Jupyter environment, please rerun this cell to show the HTML representation or trust the notebook. <br />On GitHub, the HTML representation is unable to render, please try loading this page with nbviewer.org.</b></div><div class=\"sk-container\" hidden><div class=\"sk-item sk-dashed-wrapped\"><div class=\"sk-label-container\"><div class=\"sk-label sk-toggleable\"><input class=\"sk-toggleable__control sk-hidden--visually\" id=\"sk-estimator-id-1\" type=\"checkbox\" ><label for=\"sk-estimator-id-1\" class=\"sk-toggleable__label sk-toggleable__label-arrow\">Pipeline</label><div class=\"sk-toggleable__content\"><pre>Pipeline(steps=[(&#x27;columntransformer&#x27;,\n",
       "                 ColumnTransformer(transformers=[(&#x27;pipeline-1&#x27;,\n",
       "                                                  Pipeline(steps=[(&#x27;simpleimputer&#x27;,\n",
       "                                                                   SimpleImputer())]),\n",
       "                                                  Index([&#x27;MSSubClass&#x27;, &#x27;LotFrontage&#x27;, &#x27;LotArea&#x27;, &#x27;OverallQual&#x27;, &#x27;OverallCond&#x27;,\n",
       "       &#x27;YearBuilt&#x27;, &#x27;YearRemodAdd&#x27;, &#x27;MasVnrArea&#x27;, &#x27;BsmtFinSF1&#x27;, &#x27;BsmtFinSF2&#x27;,\n",
       "       &#x27;BsmtUnfSF&#x27;, &#x27;TotalBsmtSF&#x27;, &#x27;1stFlrSF&#x27;, &#x27;2ndFlrSF&#x27;, &#x27;LowQualFinSF&#x27;,\n",
       "       &#x27;GrLivArea&#x27;, &#x27;B...\n",
       "       &#x27;BsmtCond&#x27;, &#x27;BsmtExposure&#x27;, &#x27;BsmtFinType1&#x27;, &#x27;BsmtFinType2&#x27;, &#x27;HeatingQC&#x27;,\n",
       "       &#x27;CentralAir&#x27;, &#x27;KitchenQual&#x27;, &#x27;Functional&#x27;, &#x27;FireplaceQu&#x27;,\n",
       "       &#x27;GarageFinish&#x27;, &#x27;GarageQual&#x27;, &#x27;GarageCond&#x27;, &#x27;PavedDrive&#x27;, &#x27;PoolQC&#x27;,\n",
       "       &#x27;Fence&#x27;],\n",
       "      dtype=&#x27;object&#x27;))])),\n",
       "                (&#x27;selectfrommodel&#x27;,\n",
       "                 SelectFromModel(estimator=DecisionTreeRegressor())),\n",
       "                (&#x27;gradientboostingregressor&#x27;,\n",
       "                 GradientBoostingRegressor(random_state=12120))])</pre></div></div></div><div class=\"sk-serial\"><div class=\"sk-item sk-dashed-wrapped\"><div class=\"sk-label-container\"><div class=\"sk-label sk-toggleable\"><input class=\"sk-toggleable__control sk-hidden--visually\" id=\"sk-estimator-id-2\" type=\"checkbox\" ><label for=\"sk-estimator-id-2\" class=\"sk-toggleable__label sk-toggleable__label-arrow\">columntransformer: ColumnTransformer</label><div class=\"sk-toggleable__content\"><pre>ColumnTransformer(transformers=[(&#x27;pipeline-1&#x27;,\n",
       "                                 Pipeline(steps=[(&#x27;simpleimputer&#x27;,\n",
       "                                                  SimpleImputer())]),\n",
       "                                 Index([&#x27;MSSubClass&#x27;, &#x27;LotFrontage&#x27;, &#x27;LotArea&#x27;, &#x27;OverallQual&#x27;, &#x27;OverallCond&#x27;,\n",
       "       &#x27;YearBuilt&#x27;, &#x27;YearRemodAdd&#x27;, &#x27;MasVnrArea&#x27;, &#x27;BsmtFinSF1&#x27;, &#x27;BsmtFinSF2&#x27;,\n",
       "       &#x27;BsmtUnfSF&#x27;, &#x27;TotalBsmtSF&#x27;, &#x27;1stFlrSF&#x27;, &#x27;2ndFlrSF&#x27;, &#x27;LowQualFinSF&#x27;,\n",
       "       &#x27;GrLivArea&#x27;, &#x27;BsmtFullBath&#x27;, &#x27;BsmtHalfBath&#x27;, &#x27;FullBath...\n",
       "                                                                              &#x27;TA&#x27;,\n",
       "                                                                              &#x27;Gd&#x27;,\n",
       "                                                                              &#x27;Ex&#x27;]],\n",
       "                                                                 handle_unknown=&#x27;use_encoded_value&#x27;,\n",
       "                                                                 unknown_value=-1))]),\n",
       "                                 Index([&#x27;LotShape&#x27;, &#x27;Utilities&#x27;, &#x27;ExterQual&#x27;, &#x27;ExterCond&#x27;, &#x27;BsmtQual&#x27;,\n",
       "       &#x27;BsmtCond&#x27;, &#x27;BsmtExposure&#x27;, &#x27;BsmtFinType1&#x27;, &#x27;BsmtFinType2&#x27;, &#x27;HeatingQC&#x27;,\n",
       "       &#x27;CentralAir&#x27;, &#x27;KitchenQual&#x27;, &#x27;Functional&#x27;, &#x27;FireplaceQu&#x27;,\n",
       "       &#x27;GarageFinish&#x27;, &#x27;GarageQual&#x27;, &#x27;GarageCond&#x27;, &#x27;PavedDrive&#x27;, &#x27;PoolQC&#x27;,\n",
       "       &#x27;Fence&#x27;],\n",
       "      dtype=&#x27;object&#x27;))])</pre></div></div></div><div class=\"sk-parallel\"><div class=\"sk-parallel-item\"><div class=\"sk-item\"><div class=\"sk-label-container\"><div class=\"sk-label sk-toggleable\"><input class=\"sk-toggleable__control sk-hidden--visually\" id=\"sk-estimator-id-3\" type=\"checkbox\" ><label for=\"sk-estimator-id-3\" class=\"sk-toggleable__label sk-toggleable__label-arrow\">pipeline-1</label><div class=\"sk-toggleable__content\"><pre>Index([&#x27;MSSubClass&#x27;, &#x27;LotFrontage&#x27;, &#x27;LotArea&#x27;, &#x27;OverallQual&#x27;, &#x27;OverallCond&#x27;,\n",
       "       &#x27;YearBuilt&#x27;, &#x27;YearRemodAdd&#x27;, &#x27;MasVnrArea&#x27;, &#x27;BsmtFinSF1&#x27;, &#x27;BsmtFinSF2&#x27;,\n",
       "       &#x27;BsmtUnfSF&#x27;, &#x27;TotalBsmtSF&#x27;, &#x27;1stFlrSF&#x27;, &#x27;2ndFlrSF&#x27;, &#x27;LowQualFinSF&#x27;,\n",
       "       &#x27;GrLivArea&#x27;, &#x27;BsmtFullBath&#x27;, &#x27;BsmtHalfBath&#x27;, &#x27;FullBath&#x27;, &#x27;HalfBath&#x27;,\n",
       "       &#x27;BedroomAbvGr&#x27;, &#x27;KitchenAbvGr&#x27;, &#x27;TotRmsAbvGrd&#x27;, &#x27;Fireplaces&#x27;,\n",
       "       &#x27;GarageYrBlt&#x27;, &#x27;GarageCars&#x27;, &#x27;GarageArea&#x27;, &#x27;WoodDeckSF&#x27;, &#x27;OpenPorchSF&#x27;,\n",
       "       &#x27;EnclosedPorch&#x27;, &#x27;3SsnPorch&#x27;, &#x27;ScreenPorch&#x27;, &#x27;PoolArea&#x27;, &#x27;MiscVal&#x27;,\n",
       "       &#x27;MoSold&#x27;, &#x27;YrSold&#x27;],\n",
       "      dtype=&#x27;object&#x27;)</pre></div></div></div><div class=\"sk-serial\"><div class=\"sk-item\"><div class=\"sk-serial\"><div class=\"sk-item\"><div class=\"sk-estimator sk-toggleable\"><input class=\"sk-toggleable__control sk-hidden--visually\" id=\"sk-estimator-id-4\" type=\"checkbox\" ><label for=\"sk-estimator-id-4\" class=\"sk-toggleable__label sk-toggleable__label-arrow\">SimpleImputer</label><div class=\"sk-toggleable__content\"><pre>SimpleImputer()</pre></div></div></div></div></div></div></div></div><div class=\"sk-parallel-item\"><div class=\"sk-item\"><div class=\"sk-label-container\"><div class=\"sk-label sk-toggleable\"><input class=\"sk-toggleable__control sk-hidden--visually\" id=\"sk-estimator-id-5\" type=\"checkbox\" ><label for=\"sk-estimator-id-5\" class=\"sk-toggleable__label sk-toggleable__label-arrow\">pipeline-2</label><div class=\"sk-toggleable__content\"><pre>Index([&#x27;MSZoning&#x27;, &#x27;Street&#x27;, &#x27;Alley&#x27;, &#x27;LandContour&#x27;, &#x27;LotConfig&#x27;, &#x27;LandSlope&#x27;,\n",
       "       &#x27;Neighborhood&#x27;, &#x27;Condition1&#x27;, &#x27;Condition2&#x27;, &#x27;BldgType&#x27;, &#x27;HouseStyle&#x27;,\n",
       "       &#x27;RoofStyle&#x27;, &#x27;RoofMatl&#x27;, &#x27;Exterior1st&#x27;, &#x27;Exterior2nd&#x27;, &#x27;MasVnrType&#x27;,\n",
       "       &#x27;Foundation&#x27;, &#x27;Heating&#x27;, &#x27;Electrical&#x27;, &#x27;GarageType&#x27;, &#x27;MiscFeature&#x27;,\n",
       "       &#x27;SaleType&#x27;, &#x27;SaleCondition&#x27;],\n",
       "      dtype=&#x27;object&#x27;)</pre></div></div></div><div class=\"sk-serial\"><div class=\"sk-item\"><div class=\"sk-serial\"><div class=\"sk-item\"><div class=\"sk-estimator sk-toggleable\"><input class=\"sk-toggleable__control sk-hidden--visually\" id=\"sk-estimator-id-6\" type=\"checkbox\" ><label for=\"sk-estimator-id-6\" class=\"sk-toggleable__label sk-toggleable__label-arrow\">SimpleImputer</label><div class=\"sk-toggleable__content\"><pre>SimpleImputer(fill_value=&#x27;unknown&#x27;, strategy=&#x27;constant&#x27;)</pre></div></div></div><div class=\"sk-item\"><div class=\"sk-estimator sk-toggleable\"><input class=\"sk-toggleable__control sk-hidden--visually\" id=\"sk-estimator-id-7\" type=\"checkbox\" ><label for=\"sk-estimator-id-7\" class=\"sk-toggleable__label sk-toggleable__label-arrow\">OneHotEncoder</label><div class=\"sk-toggleable__content\"><pre>OneHotEncoder(drop=&#x27;first&#x27;, handle_unknown=&#x27;ignore&#x27;, sparse_output=False)</pre></div></div></div></div></div></div></div></div><div class=\"sk-parallel-item\"><div class=\"sk-item\"><div class=\"sk-label-container\"><div class=\"sk-label sk-toggleable\"><input class=\"sk-toggleable__control sk-hidden--visually\" id=\"sk-estimator-id-8\" type=\"checkbox\" ><label for=\"sk-estimator-id-8\" class=\"sk-toggleable__label sk-toggleable__label-arrow\">pipeline-3</label><div class=\"sk-toggleable__content\"><pre>Index([&#x27;LotShape&#x27;, &#x27;Utilities&#x27;, &#x27;ExterQual&#x27;, &#x27;ExterCond&#x27;, &#x27;BsmtQual&#x27;,\n",
       "       &#x27;BsmtCond&#x27;, &#x27;BsmtExposure&#x27;, &#x27;BsmtFinType1&#x27;, &#x27;BsmtFinType2&#x27;, &#x27;HeatingQC&#x27;,\n",
       "       &#x27;CentralAir&#x27;, &#x27;KitchenQual&#x27;, &#x27;Functional&#x27;, &#x27;FireplaceQu&#x27;,\n",
       "       &#x27;GarageFinish&#x27;, &#x27;GarageQual&#x27;, &#x27;GarageCond&#x27;, &#x27;PavedDrive&#x27;, &#x27;PoolQC&#x27;,\n",
       "       &#x27;Fence&#x27;],\n",
       "      dtype=&#x27;object&#x27;)</pre></div></div></div><div class=\"sk-serial\"><div class=\"sk-item\"><div class=\"sk-serial\"><div class=\"sk-item\"><div class=\"sk-estimator sk-toggleable\"><input class=\"sk-toggleable__control sk-hidden--visually\" id=\"sk-estimator-id-9\" type=\"checkbox\" ><label for=\"sk-estimator-id-9\" class=\"sk-toggleable__label sk-toggleable__label-arrow\">SimpleImputer</label><div class=\"sk-toggleable__content\"><pre>SimpleImputer(fill_value=&#x27;unknown&#x27;, strategy=&#x27;constant&#x27;)</pre></div></div></div><div class=\"sk-item\"><div class=\"sk-estimator sk-toggleable\"><input class=\"sk-toggleable__control sk-hidden--visually\" id=\"sk-estimator-id-10\" type=\"checkbox\" ><label for=\"sk-estimator-id-10\" class=\"sk-toggleable__label sk-toggleable__label-arrow\">OrdinalEncoder</label><div class=\"sk-toggleable__content\"><pre>OrdinalEncoder(categories=[[&#x27;Po&#x27;, &#x27;Fa&#x27;, &#x27;TA&#x27;, &#x27;Gd&#x27;, &#x27;Ex&#x27;],\n",
       "                           [&#x27;Po&#x27;, &#x27;Fa&#x27;, &#x27;TA&#x27;, &#x27;Gd&#x27;, &#x27;Ex&#x27;],\n",
       "                           [&#x27;NA&#x27;, &#x27;Po&#x27;, &#x27;Fa&#x27;, &#x27;TA&#x27;, &#x27;Gd&#x27;, &#x27;Ex&#x27;],\n",
       "                           [&#x27;NA&#x27;, &#x27;Po&#x27;, &#x27;Fa&#x27;, &#x27;TA&#x27;, &#x27;Gd&#x27;, &#x27;Ex&#x27;],\n",
       "                           [&#x27;NA&#x27;, &#x27;Po&#x27;, &#x27;Mn&#x27;, &#x27;Av&#x27;, &#x27;Gd&#x27;],\n",
       "                           [&#x27;NA&#x27;, &#x27;unf&#x27;, &#x27;LwQ&#x27;, &#x27;Rec&#x27;, &#x27;BLQ&#x27;, &#x27;ALQ&#x27;, &#x27;GLQ&#x27;],\n",
       "                           [&#x27;NA&#x27;, &#x27;unf&#x27;, &#x27;LwQ&#x27;, &#x27;Rec&#x27;, &#x27;BLQ&#x27;, &#x27;ALQ&#x27;, &#x27;GLQ&#x27;],\n",
       "                           [&#x27;Po&#x27;, &#x27;Fa&#x27;, &#x27;TA&#x27;, &#x27;Gd&#x27;, &#x27;Ex&#x27;],\n",
       "                           [&#x27;Po&#x27;, &#x27;Fa&#x27;, &#x27;TA&#x27;, &#x27;Gd&#x27;, &#x27;Ex&#x27;],\n",
       "                           [&#x27;IR3&#x27;, &#x27;IR2&#x27;, &#x27;IR1&#x27;, &#x27;Reg&#x27;],\n",
       "                           [&#x27;ELO&#x27;, &#x27;NoSeWa&#x27;, &#x27;NoSewr&#x27;, &#x27;AllPub&#x27;],\n",
       "                           [&#x27;Po&#x27;, &#x27;Fa&#x27;, &#x27;TA&#x27;, &#x27;Gd&#x27;, &#x27;Ex&#x27;],\n",
       "                           [&#x27;NA&#x27;, &#x27;Unf&#x27;, &#x27;RFn&#x27;, &#x27;Fin&#x27;],\n",
       "                           [&#x27;NA&#x27;, &#x27;Po&#x27;, &#x27;Fa&#x27;, &#x27;TA&#x27;, &#x27;Gd&#x27;, &#x27;Ex&#x27;],\n",
       "                           [&#x27;N&#x27;, &#x27;P&#x27;, &#x27;Y&#x27;],\n",
       "                           [&#x27;NA&#x27;, &#x27;MnWw&#x27;, &#x27;GdWo&#x27;, &#x27;MnPrv&#x27;, &#x27;GdPrv&#x27;], [&#x27;N&#x27;, &#x27;Y&#x27;],\n",
       "                           [&#x27;Sal&#x27;, &#x27;Sev&#x27;, &#x27;Maj2&#x27;, &#x27;Maj1&#x27;, &#x27;Mod&#x27;, &#x27;Min2&#x27;,\n",
       "                            &#x27;Min1;Typ&#x27;],\n",
       "                           [&#x27;NA&#x27;, &#x27;Po&#x27;, &#x27;Fa&#x27;, &#x27;TA&#x27;, &#x27;Gd&#x27;, &#x27;Ex&#x27;],\n",
       "                           [&#x27;NA&#x27;, &#x27;Fa&#x27;, &#x27;TA&#x27;, &#x27;Gd&#x27;, &#x27;Ex&#x27;]],\n",
       "               handle_unknown=&#x27;use_encoded_value&#x27;, unknown_value=-1)</pre></div></div></div></div></div></div></div></div></div></div><div class=\"sk-item sk-dashed-wrapped\"><div class=\"sk-label-container\"><div class=\"sk-label sk-toggleable\"><input class=\"sk-toggleable__control sk-hidden--visually\" id=\"sk-estimator-id-11\" type=\"checkbox\" ><label for=\"sk-estimator-id-11\" class=\"sk-toggleable__label sk-toggleable__label-arrow\">selectfrommodel: SelectFromModel</label><div class=\"sk-toggleable__content\"><pre>SelectFromModel(estimator=DecisionTreeRegressor())</pre></div></div></div><div class=\"sk-parallel\"><div class=\"sk-parallel-item\"><div class=\"sk-item\"><div class=\"sk-label-container\"><div class=\"sk-label sk-toggleable\"><input class=\"sk-toggleable__control sk-hidden--visually\" id=\"sk-estimator-id-12\" type=\"checkbox\" ><label for=\"sk-estimator-id-12\" class=\"sk-toggleable__label sk-toggleable__label-arrow\">estimator: DecisionTreeRegressor</label><div class=\"sk-toggleable__content\"><pre>DecisionTreeRegressor()</pre></div></div></div><div class=\"sk-serial\"><div class=\"sk-item\"><div class=\"sk-estimator sk-toggleable\"><input class=\"sk-toggleable__control sk-hidden--visually\" id=\"sk-estimator-id-13\" type=\"checkbox\" ><label for=\"sk-estimator-id-13\" class=\"sk-toggleable__label sk-toggleable__label-arrow\">DecisionTreeRegressor</label><div class=\"sk-toggleable__content\"><pre>DecisionTreeRegressor()</pre></div></div></div></div></div></div></div></div><div class=\"sk-item\"><div class=\"sk-estimator sk-toggleable\"><input class=\"sk-toggleable__control sk-hidden--visually\" id=\"sk-estimator-id-14\" type=\"checkbox\" ><label for=\"sk-estimator-id-14\" class=\"sk-toggleable__label sk-toggleable__label-arrow\">GradientBoostingRegressor</label><div class=\"sk-toggleable__content\"><pre>GradientBoostingRegressor(random_state=12120)</pre></div></div></div></div></div></div></div>"
      ],
      "text/plain": [
       "Pipeline(steps=[('columntransformer',\n",
       "                 ColumnTransformer(transformers=[('pipeline-1',\n",
       "                                                  Pipeline(steps=[('simpleimputer',\n",
       "                                                                   SimpleImputer())]),\n",
       "                                                  Index(['MSSubClass', 'LotFrontage', 'LotArea', 'OverallQual', 'OverallCond',\n",
       "       'YearBuilt', 'YearRemodAdd', 'MasVnrArea', 'BsmtFinSF1', 'BsmtFinSF2',\n",
       "       'BsmtUnfSF', 'TotalBsmtSF', '1stFlrSF', '2ndFlrSF', 'LowQualFinSF',\n",
       "       'GrLivArea', 'B...\n",
       "       'BsmtCond', 'BsmtExposure', 'BsmtFinType1', 'BsmtFinType2', 'HeatingQC',\n",
       "       'CentralAir', 'KitchenQual', 'Functional', 'FireplaceQu',\n",
       "       'GarageFinish', 'GarageQual', 'GarageCond', 'PavedDrive', 'PoolQC',\n",
       "       'Fence'],\n",
       "      dtype='object'))])),\n",
       "                ('selectfrommodel',\n",
       "                 SelectFromModel(estimator=DecisionTreeRegressor())),\n",
       "                ('gradientboostingregressor',\n",
       "                 GradientBoostingRegressor(random_state=12120))])"
      ]
     },
     "execution_count": 9,
     "metadata": {},
     "output_type": "execute_result"
    }
   ],
   "source": [
    "full_pipe"
   ]
  },
  {
   "cell_type": "markdown",
   "id": "7a32ec60",
   "metadata": {
    "papermill": {
     "duration": 0.010513,
     "end_time": "2024-02-09T16:10:41.032647",
     "exception": false,
     "start_time": "2024-02-09T16:10:41.022134",
     "status": "completed"
    },
    "tags": []
   },
   "source": [
    "## Grid Search for best parameter set"
   ]
  },
  {
   "cell_type": "code",
   "execution_count": 10,
   "id": "d10ff1a9",
   "metadata": {
    "execution": {
     "iopub.execute_input": "2024-02-09T16:10:41.056275Z",
     "iopub.status.busy": "2024-02-09T16:10:41.055857Z",
     "iopub.status.idle": "2024-02-09T16:10:41.065528Z",
     "shell.execute_reply": "2024-02-09T16:10:41.064258Z"
    },
    "papermill": {
     "duration": 0.023912,
     "end_time": "2024-02-09T16:10:41.067756",
     "exception": false,
     "start_time": "2024-02-09T16:10:41.043844",
     "status": "completed"
    },
    "tags": []
   },
   "outputs": [],
   "source": [
    "parameter_forest = {\"columntransformer__pipeline-1__simpleimputer__strategy\":[\"median\"],\n",
    "                    \"columntransformer__pipeline-2__onehotencoder__min_frequency\": [3],\n",
    "                    \"rfecv__estimator__max_depth\":[10],\n",
    "                    \"rfecv__estimator__min_samples_split\": [3],\n",
    "                    \"randomforestregressor__criterion\":[\"squared_error\"],\n",
    "                    \"randomforestregressor__max_depth\": [11],\n",
    "                    \"randomforestregressor__min_samples_split\": range(3,6),\n",
    "                    \"randomforestregressor__min_impurity_decrease\": [0.005,]\n",
    "                   }\n",
    "\n",
    "parameter_gradient = {\"columntransformer__pipeline-1__simpleimputer__strategy\":[\"median\"],\n",
    "                    \"columntransformer__pipeline-2__onehotencoder__min_frequency\": [3],\n",
    "                    \"selectfrommodel__threshold\":[\"median\",\"1.2*median\", \"mean\"],\n",
    "                    \"selectfrommodel__estimator__max_depth\":[10],\n",
    "                    \"selectfrommodel__estimator__min_samples_split\": [3],\n",
    "                    \"gradientboostingregressor__loss\":[\"absolute_error\", \"huber\"],\n",
    "                    \"gradientboostingregressor__n_estimators\": [100,120,150],\n",
    "                    \"gradientboostingregressor__criterion\": [\"friedman_mse\"],\n",
    "                    \"gradientboostingregressor__max_depth\": [10],\n",
    "                    \"gradientboostingregressor__min_samples_split\": range(4,20,5),\n",
    "                    \"gradientboostingregressor__min_impurity_decrease\": [0,0.005]\n",
    "                   }"
   ]
  },
  {
   "cell_type": "code",
   "execution_count": 11,
   "id": "3146680f",
   "metadata": {
    "execution": {
     "iopub.execute_input": "2024-02-09T16:10:41.091045Z",
     "iopub.status.busy": "2024-02-09T16:10:41.090569Z",
     "iopub.status.idle": "2024-02-09T16:10:41.095902Z",
     "shell.execute_reply": "2024-02-09T16:10:41.094262Z"
    },
    "papermill": {
     "duration": 0.020198,
     "end_time": "2024-02-09T16:10:41.098688",
     "exception": false,
     "start_time": "2024-02-09T16:10:41.078490",
     "status": "completed"
    },
    "tags": []
   },
   "outputs": [],
   "source": [
    "# setup of empty dictionaries for the training iterations to store results of variations\n",
    "model_dict = {}\n",
    "results_dict = {}\n",
    "nr = 0"
   ]
  },
  {
   "cell_type": "code",
   "execution_count": 12,
   "id": "eb548180",
   "metadata": {
    "execution": {
     "iopub.execute_input": "2024-02-09T16:10:41.122530Z",
     "iopub.status.busy": "2024-02-09T16:10:41.121654Z",
     "iopub.status.idle": "2024-02-09T16:10:41.127889Z",
     "shell.execute_reply": "2024-02-09T16:10:41.126991Z"
    },
    "papermill": {
     "duration": 0.021189,
     "end_time": "2024-02-09T16:10:41.130497",
     "exception": false,
     "start_time": "2024-02-09T16:10:41.109308",
     "status": "completed"
    },
    "tags": []
   },
   "outputs": [],
   "source": [
    "def grid_search(pipe, parameters, folds, X_train,y_train):\n",
    "\n",
    "    grid_search = GridSearchCV( pipe,\n",
    "                            parameters,\n",
    "                            cv = 5,\n",
    "                            scoring = \"neg_mean_absolute_error\",\n",
    "                            verbose = 1\n",
    "                          )\n",
    "    return grid_search.fit(X_train,y_train)"
   ]
  },
  {
   "cell_type": "markdown",
   "id": "8d022a51",
   "metadata": {
    "papermill": {
     "duration": 0.010293,
     "end_time": "2024-02-09T16:10:41.151307",
     "exception": false,
     "start_time": "2024-02-09T16:10:41.141014",
     "status": "completed"
    },
    "tags": []
   },
   "source": [
    "applying the results and predict on X_test"
   ]
  },
  {
   "cell_type": "code",
   "execution_count": 13,
   "id": "8a5d617a",
   "metadata": {
    "execution": {
     "iopub.execute_input": "2024-02-09T16:10:41.175647Z",
     "iopub.status.busy": "2024-02-09T16:10:41.174717Z",
     "iopub.status.idle": "2024-02-09T16:10:41.180321Z",
     "shell.execute_reply": "2024-02-09T16:10:41.179438Z"
    },
    "papermill": {
     "duration": 0.020574,
     "end_time": "2024-02-09T16:10:41.182847",
     "exception": false,
     "start_time": "2024-02-09T16:10:41.162273",
     "status": "completed"
    },
    "tags": []
   },
   "outputs": [],
   "source": [
    "#run the grid search function\n",
    "grid_search = grid_search(full_pipe, parameter_gradient, 5, X_train,y_train)\n",
    "\n",
    "# update the model dictionary with the best scores of the gridsearch\n",
    "model_dict.update({f\"Score_run_{nr}\": grid_search.best_score_})\n",
    "model_dict.update({f\"param_run_{nr}\": grid_search.best_params_})\n",
    "\n",
    "#predict on test\n",
    "y_pred = grid_search.best_estimator_.predict(X_test)\n",
    "\n",
    "# update the results dictionary with the Scores on test set\n",
    "results_dict.update({f\"MAE_run_{nr}\": mean_absolute_error(y_test, y_pred)})\n",
    "results_dict.update({f\"RMSE_run_{nr}\":mean_squared_log_error(y_test, y_pred)})\n",
    "results_dict.update({f\"MAPE_run_{nr}\": mean_absolute_percentage_error(y_test, y_pred)})\n",
    "results_dict.update({f\"R2_run_{nr}\": r2_score(y_test, y_pred)})\n",
    "\n",
    "nr = nr+1\n"
   ]
  },
  {
   "cell_type": "code",
   "execution_count": 14,
   "id": "9875bda8",
   "metadata": {
    "execution": {
     "iopub.execute_input": "2024-02-09T16:10:41.206606Z",
     "iopub.status.busy": "2024-02-09T16:10:41.205903Z",
     "iopub.status.idle": "2024-02-09T16:10:41.210600Z",
     "shell.execute_reply": "2024-02-09T16:10:41.209704Z"
    },
    "papermill": {
     "duration": 0.019754,
     "end_time": "2024-02-09T16:10:41.213220",
     "exception": false,
     "start_time": "2024-02-09T16:10:41.193466",
     "status": "completed"
    },
    "tags": []
   },
   "outputs": [],
   "source": [
    "results_dict"
   ]
  },
  {
   "cell_type": "code",
   "execution_count": 15,
   "id": "66b7a5ab",
   "metadata": {
    "execution": {
     "iopub.execute_input": "2024-02-09T16:10:41.239006Z",
     "iopub.status.busy": "2024-02-09T16:10:41.238527Z",
     "iopub.status.idle": "2024-02-09T16:10:41.243259Z",
     "shell.execute_reply": "2024-02-09T16:10:41.242042Z"
    },
    "papermill": {
     "duration": 0.019773,
     "end_time": "2024-02-09T16:10:41.245734",
     "exception": false,
     "start_time": "2024-02-09T16:10:41.225961",
     "status": "completed"
    },
    "tags": []
   },
   "outputs": [],
   "source": [
    "model_dict"
   ]
  },
  {
   "cell_type": "markdown",
   "id": "b5ce5a19",
   "metadata": {
    "papermill": {
     "duration": 0.0103,
     "end_time": "2024-02-09T16:10:41.267388",
     "exception": false,
     "start_time": "2024-02-09T16:10:41.257088",
     "status": "completed"
    },
    "tags": []
   },
   "source": [
    "## Submission"
   ]
  },
  {
   "cell_type": "code",
   "execution_count": 16,
   "id": "57d8b739",
   "metadata": {
    "execution": {
     "iopub.execute_input": "2024-02-09T16:10:41.291209Z",
     "iopub.status.busy": "2024-02-09T16:10:41.290725Z",
     "iopub.status.idle": "2024-02-09T16:10:41.298451Z",
     "shell.execute_reply": "2024-02-09T16:10:41.297229Z"
    },
    "papermill": {
     "duration": 0.022433,
     "end_time": "2024-02-09T16:10:41.300878",
     "exception": false,
     "start_time": "2024-02-09T16:10:41.278445",
     "status": "completed"
    },
    "tags": []
   },
   "outputs": [],
   "source": [
    "# define the parameters used for submission\n",
    "\n",
    "parameter_final = {\"columntransformer__pipeline-1__simpleimputer__strategy\":[\"median\"],\n",
    "                    \"columntransformer__pipeline-2__onehotencoder__min_frequency\": [3],\n",
    "                    \"selectfrommodel__threshold\":[\"median\"],\n",
    "                    \"selectfrommodel__estimator__max_depth\":[10],\n",
    "                    \"selectfrommodel__estimator__min_samples_split\": [3],\n",
    "                    \"gradientboostingregressor__loss\":[\"absolute_error\"],\n",
    "                    \"gradientboostingregressor__n_estimators\": [150],\n",
    "                    \"gradientboostingregressor__criterion\": [\"friedman_mse\"],\n",
    "                    \"gradientboostingregressor__max_depth\": [10],\n",
    "                    \"gradientboostingregressor__min_samples_split\": [14],\n",
    "                    \"gradientboostingregressor__min_impurity_decrease\": [0]\n",
    "                   }\n",
    "# final GridSearch\n",
    "search_final  = GridSearchCV( full_pipe,\n",
    "                            parameter_final,\n",
    "                            cv = 5,\n",
    "                            scoring = \"neg_mean_absolute_error\",\n",
    "                            verbose = 1\n",
    "                          )\n"
   ]
  },
  {
   "cell_type": "code",
   "execution_count": null,
   "id": "b5e088e0",
   "metadata": {
    "papermill": {
     "duration": 30.553972,
     "end_time": "2024-02-09T16:11:11.865547",
     "exception": false,
     "start_time": "2024-02-09T16:10:41.311575",
     "status": "completed"
    },
    "tags": []
   },
   "outputs": [],
   "source": [
    "# fit & predict\n",
    "search_final.fit(X_train,y_train)\n",
    "y_pred_fin= search_final.predict(X_test)"
   ]
  },
  {
   "cell_type": "code",
   "execution_count": 18,
   "id": "c0d52674",
   "metadata": {
    "execution": {
     "iopub.execute_input": "2024-02-09T16:11:11.890354Z",
     "iopub.status.busy": "2024-02-09T16:11:11.889907Z",
     "iopub.status.idle": "2024-02-09T16:11:12.281979Z",
     "shell.execute_reply": "2024-02-09T16:11:12.281065Z"
    },
    "papermill": {
     "duration": 0.407241,
     "end_time": "2024-02-09T16:11:12.284328",
     "exception": false,
     "start_time": "2024-02-09T16:11:11.877087",
     "status": "completed"
    },
    "tags": []
   },
   "outputs": [
    {
     "data": {
      "text/plain": [
       "<matplotlib.collections.PathCollection at 0x7fd903bbec20>"
      ]
     },
     "execution_count": 18,
     "metadata": {},
     "output_type": "execute_result"
    },
    {
     "data": {
      "image/png": "[encoded data removed]",
      "text/plain": [
       "<Figure size 640x480 with 1 Axes>"
      ]
     },
     "metadata": {},
     "output_type": "display_data"
    }
   ],
   "source": [
    "plt.scatter(y_train, search_final.predict(X_train))"
   ]
  },
  {
   "cell_type": "code",
   "execution_count": 19,
   "id": "1e2c5201",
   "metadata": {
    "execution": {
     "iopub.execute_input": "2024-02-09T16:11:12.310988Z",
     "iopub.status.busy": "2024-02-09T16:11:12.309813Z",
     "iopub.status.idle": "2024-02-09T16:11:12.354893Z",
     "shell.execute_reply": "2024-02-09T16:11:12.353681Z"
    },
    "papermill": {
     "duration": 0.061539,
     "end_time": "2024-02-09T16:11:12.357949",
     "exception": false,
     "start_time": "2024-02-09T16:11:12.296410",
     "status": "completed"
    },
    "tags": []
   },
   "outputs": [],
   "source": [
    "#read the test csv\n",
    "submission_df = pd.read_csv('/data/test_regression.csv')"
   ]
  },
  {
   "cell_type": "code",
   "execution_count": 20,
   "id": "eb6750d9",
   "metadata": {
    "execution": {
     "iopub.execute_input": "2024-02-09T16:11:12.384665Z",
     "iopub.status.busy": "2024-02-09T16:11:12.384181Z",
     "iopub.status.idle": "2024-02-09T16:11:12.499476Z",
     "shell.execute_reply": "2024-02-09T16:11:12.498247Z"
    },
    "papermill": {
     "duration": 0.132133,
     "end_time": "2024-02-09T16:11:12.502270",
     "exception": false,
     "start_time": "2024-02-09T16:11:12.370137",
     "status": "completed"
    },
    "tags": []
   },
   "outputs": [
    {
     "name": "stderr",
     "output_type": "stream",
     "text": [
      "/opt/conda/lib/python3.10/site-packages/sklearn/preprocessing/_encoders.py:202: UserWarning: Found unknown categories in columns [0, 13, 14, 21] during transform. These unknown categories will be encoded as all zeros\n",
      "  warnings.warn(\n"
     ]
    }
   ],
   "source": [
    "# predict the submission model on test csv and keep only ID and SalePrice\n",
    "my_submission = (\n",
    "submission_df\n",
    "    .assign(SalePrice = search_final.predict(submission_df))\n",
    "    .filter(['Id','SalePrice'])\n",
    ")\n"
   ]
  },
  {
   "cell_type": "code",
   "execution_count": 21,
   "id": "46f437fd",
   "metadata": {
    "execution": {
     "iopub.execute_input": "2024-02-09T16:11:12.528255Z",
     "iopub.status.busy": "2024-02-09T16:11:12.527823Z",
     "iopub.status.idle": "2024-02-09T16:11:12.547942Z",
     "shell.execute_reply": "2024-02-09T16:11:12.546672Z"
    },
    "papermill": {
     "duration": 0.036092,
     "end_time": "2024-02-09T16:11:12.550593",
     "exception": false,
     "start_time": "2024-02-09T16:11:12.514501",
     "status": "completed"
    },
    "tags": []
   },
   "outputs": [
    {
     "data": {
      "text/html": [
       "<div>\n",
       "<style scoped>\n",
       "    .dataframe tbody tr th:only-of-type {\n",
       "        vertical-align: middle;\n",
       "    }\n",
       "\n",
       "    .dataframe tbody tr th {\n",
       "        vertical-align: top;\n",
       "    }\n",
       "\n",
       "    .dataframe thead th {\n",
       "        text-align: right;\n",
       "    }\n",
       "</style>\n",
       "<table border=\"1\" class=\"dataframe\">\n",
       "  <thead>\n",
       "    <tr style=\"text-align: right;\">\n",
       "      <th></th>\n",
       "      <th>Id</th>\n",
       "      <th>SalePrice</th>\n",
       "    </tr>\n",
       "  </thead>\n",
       "  <tbody>\n",
       "    <tr>\n",
       "      <th>0</th>\n",
       "      <td>1461</td>\n",
       "      <td>129250.265724</td>\n",
       "    </tr>\n",
       "    <tr>\n",
       "      <th>1</th>\n",
       "      <td>1462</td>\n",
       "      <td>160383.424899</td>\n",
       "    </tr>\n",
       "    <tr>\n",
       "      <th>2</th>\n",
       "      <td>1463</td>\n",
       "      <td>173108.469493</td>\n",
       "    </tr>\n",
       "    <tr>\n",
       "      <th>3</th>\n",
       "      <td>1464</td>\n",
       "      <td>185840.533465</td>\n",
       "    </tr>\n",
       "    <tr>\n",
       "      <th>4</th>\n",
       "      <td>1465</td>\n",
       "      <td>193036.876801</td>\n",
       "    </tr>\n",
       "    <tr>\n",
       "      <th>...</th>\n",
       "      <td>...</td>\n",
       "      <td>...</td>\n",
       "    </tr>\n",
       "    <tr>\n",
       "      <th>1454</th>\n",
       "      <td>2915</td>\n",
       "      <td>88009.911596</td>\n",
       "    </tr>\n",
       "    <tr>\n",
       "      <th>1455</th>\n",
       "      <td>2916</td>\n",
       "      <td>85856.092864</td>\n",
       "    </tr>\n",
       "    <tr>\n",
       "      <th>1456</th>\n",
       "      <td>2917</td>\n",
       "      <td>184147.238522</td>\n",
       "    </tr>\n",
       "    <tr>\n",
       "      <th>1457</th>\n",
       "      <td>2918</td>\n",
       "      <td>114973.472062</td>\n",
       "    </tr>\n",
       "    <tr>\n",
       "      <th>1458</th>\n",
       "      <td>2919</td>\n",
       "      <td>211531.973088</td>\n",
       "    </tr>\n",
       "  </tbody>\n",
       "</table>\n",
       "<p>1459 rows × 2 columns</p>\n",
       "</div>"
      ],
      "text/plain": [
       "        Id      SalePrice\n",
       "0     1461  129250.265724\n",
       "1     1462  160383.424899\n",
       "2     1463  173108.469493\n",
       "3     1464  185840.533465\n",
       "4     1465  193036.876801\n",
       "...    ...            ...\n",
       "1454  2915   88009.911596\n",
       "1455  2916   85856.092864\n",
       "1456  2917  184147.238522\n",
       "1457  2918  114973.472062\n",
       "1458  2919  211531.973088\n",
       "\n",
       "[1459 rows x 2 columns]"
      ]
     },
     "execution_count": 21,
     "metadata": {},
     "output_type": "execute_result"
    }
   ],
   "source": [
    "my_submission"
   ]
  },
  {
   "cell_type": "code",
   "execution_count": 22,
   "id": "b61c528b",
   "metadata": {
    "execution": {
     "iopub.execute_input": "2024-02-09T16:11:12.579024Z",
     "iopub.status.busy": "2024-02-09T16:11:12.577743Z",
     "iopub.status.idle": "2024-02-09T16:11:12.591974Z",
     "shell.execute_reply": "2024-02-09T16:11:12.590877Z"
    },
    "papermill": {
     "duration": 0.031439,
     "end_time": "2024-02-09T16:11:12.594760",
     "exception": false,
     "start_time": "2024-02-09T16:11:12.563321",
     "status": "completed"
    },
    "tags": []
   },
   "outputs": [],
   "source": [
    "store submission\n",
    "my_submission.to_csv(\"data/submission.csv\", index=False)"
   ]
  }
 ],
 "metadata": {
  "kaggle": {
   "accelerator": "none",
   "dataSources": [
    {
     "databundleVersionId": 868283,
     "sourceId": 5407,
     "sourceType": "competition"
    }
   ],
   "dockerImageVersionId": 30646,
   "isGpuEnabled": false,
   "isInternetEnabled": true,
   "language": "python",
   "sourceType": "notebook"
  },
  "kernelspec": {
   "display_name": "Python 3 (ipykernel)",
   "language": "python",
   "name": "python3"
  },
  "language_info": {
   "codemirror_mode": {
    "name": "ipython",
    "version": 3
   },
   "file_extension": ".py",
   "mimetype": "text/x-python",
   "name": "python",
   "nbconvert_exporter": "python",
   "pygments_lexer": "ipython3",
   "version": "3.11.5"
  },
  "papermill": {
   "default_parameters": {},
   "duration": 39.601049,
   "end_time": "2024-02-09T16:11:13.455302",
   "environment_variables": {},
   "exception": null,
   "input_path": "__notebook__.ipynb",
   "output_path": "__notebook__.ipynb",
   "parameters": {},
   "start_time": "2024-02-09T16:10:33.854253",
   "version": "2.5.0"
  }
 },
 "nbformat": 4,
 "nbformat_minor": 5
}
